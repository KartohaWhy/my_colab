{
  "nbformat": 4,
  "nbformat_minor": 0,
  "metadata": {
    "colab": {
      "provenance": [],
      "mount_file_id": "1p3dQaqAYw-ZCnxZGV_KrOHw06DRR5cFG",
      "authorship_tag": "ABX9TyNv4j38jp+epD3SrWZIimP3",
      "include_colab_link": true
    },
    "kernelspec": {
      "name": "python3",
      "display_name": "Python 3"
    },
    "language_info": {
      "name": "python"
    }
  },
  "cells": [
    {
      "cell_type": "markdown",
      "metadata": {
        "id": "view-in-github",
        "colab_type": "text"
      },
      "source": [
        "<a href=\"https://colab.research.google.com/github/KartohaWhy/my_colab/blob/main/Copy_Nto_2_3.ipynb\" target=\"_parent\"><img src=\"https://colab.research.google.com/assets/colab-badge.svg\" alt=\"Open In Colab\"/></a>"
      ]
    },
    {
      "cell_type": "markdown",
      "source": [
        "Задача по предсказанию за кого из двух вариантов проголосует человек, исходя из похожести людей"
      ],
      "metadata": {
        "id": "wOZ9qjrGTcQN"
      }
    },
    {
      "cell_type": "code",
      "execution_count": null,
      "metadata": {
        "id": "SCzJGP8paUqs"
      },
      "outputs": [],
      "source": [
        "import pandas as pd\n",
        "import numpy as np"
      ]
    },
    {
      "cell_type": "code",
      "source": [
        "!pip install catboost -q"
      ],
      "metadata": {
        "id": "SlCrKTNMfExf"
      },
      "execution_count": null,
      "outputs": []
    },
    {
      "cell_type": "code",
      "source": [
        "from catboost import CatBoostClassifier"
      ],
      "metadata": {
        "id": "MZintzx_fHWo"
      },
      "execution_count": null,
      "outputs": []
    },
    {
      "cell_type": "code",
      "source": [
        "sim = pd.read_csv('/content/drive/MyDrive/nto_2/3/sim.csv')"
      ],
      "metadata": {
        "id": "2wEdDpC2bB9A"
      },
      "execution_count": null,
      "outputs": []
    },
    {
      "cell_type": "code",
      "source": [
        "df = pd.read_csv('/content/drive/MyDrive/nto_2/3/train.csv')"
      ],
      "metadata": {
        "id": "lL9GT5U0bIIT"
      },
      "execution_count": null,
      "outputs": []
    },
    {
      "cell_type": "code",
      "source": [
        "sim.head()"
      ],
      "metadata": {
        "id": "-OP10-FobMsQ"
      },
      "execution_count": null,
      "outputs": []
    },
    {
      "cell_type": "code",
      "source": [
        "df.head()"
      ],
      "metadata": {
        "id": "qdLObxuUbNlG"
      },
      "execution_count": null,
      "outputs": []
    },
    {
      "cell_type": "code",
      "source": [
        "df.shape"
      ],
      "metadata": {
        "id": "5M963MbFbPtr"
      },
      "execution_count": null,
      "outputs": []
    },
    {
      "cell_type": "code",
      "source": [
        "df['class'].isna().sum()"
      ],
      "metadata": {
        "id": "6hwJ7ZS-beGO"
      },
      "execution_count": null,
      "outputs": []
    },
    {
      "cell_type": "code",
      "source": [
        "sim"
      ],
      "metadata": {
        "id": "t1sHj2VNbmBU"
      },
      "execution_count": null,
      "outputs": []
    },
    {
      "cell_type": "code",
      "source": [
        "sim = sim.sort_values(by=['id1', 'id2']).reset_index(drop=True)"
      ],
      "metadata": {
        "id": "TPZuITN8lfvV"
      },
      "execution_count": null,
      "outputs": []
    },
    {
      "cell_type": "code",
      "source": [
        "sim.head()"
      ],
      "metadata": {
        "id": "OWEejCuWnEvS"
      },
      "execution_count": null,
      "outputs": []
    },
    {
      "cell_type": "code",
      "source": [],
      "metadata": {
        "id": "R5jHMA5Cuk47"
      },
      "execution_count": null,
      "outputs": []
    },
    {
      "cell_type": "code",
      "source": [
        "sim[sim['sim'] >= 0.9]"
      ],
      "metadata": {
        "id": "KqPmoFKDtu17"
      },
      "execution_count": null,
      "outputs": []
    },
    {
      "cell_type": "code",
      "source": [
        "sim['plus_minus'].value_counts()"
      ],
      "metadata": {
        "id": "hAwNsA_0nsbQ"
      },
      "execution_count": null,
      "outputs": []
    },
    {
      "cell_type": "code",
      "source": [],
      "metadata": {
        "id": "GXrwju6FnyZz"
      },
      "execution_count": null,
      "outputs": []
    },
    {
      "cell_type": "code",
      "source": [
        "sim['plus_minus'] = sim['sim'].apply(lambda x: 1 if x > 0 else 0 if x < 0 else None)"
      ],
      "metadata": {
        "id": "RrRRdhw3nqC5"
      },
      "execution_count": null,
      "outputs": []
    },
    {
      "cell_type": "code",
      "source": [
        "sim['more_90'] = sim['sim'].apply(lambda x: 1 if x >= 0.9 else 0 if x < 0.9 else None)"
      ],
      "metadata": {
        "id": "8nAFi4_FlzM_"
      },
      "execution_count": null,
      "outputs": []
    },
    {
      "cell_type": "code",
      "source": [
        "sim['more_80'] = sim['sim'].apply(lambda x: 1 if x >= 0.8 else 0 )"
      ],
      "metadata": {
        "id": "X-DfDwlwvBpI"
      },
      "execution_count": null,
      "outputs": []
    },
    {
      "cell_type": "code",
      "source": [
        "sim['more_90'] = sim['sim'].apply(lambda x: 1 if x >= 0.9 else 0)\n",
        "sim['more_70'] = sim['sim'].apply(lambda x: 1 if (x >= 0.7) and (x < 0.9) else 0 )\n",
        "sim['more_50'] = sim['sim'].apply(lambda x: 1 if (x >= 0.5) and (x < 0.7) else 0 )\n",
        "sim['more_25'] = sim['sim'].apply(lambda x: 1 if (x >= 0.25) and (x < 0.5) else 0 )\n",
        "sim['more_0'] = sim['sim'].apply(lambda x: 1 if (x >= 0) and (x < 0.25) else 0 )\n",
        "sim['less_90'] = sim['sim'].apply(lambda x: 1 if x <= -0.9 else 0 )\n",
        "sim['less_70'] = sim['sim'].apply(lambda x: 1 if (x <= -0.7) and (x>-0.9) else 0 )\n",
        "sim['less_50'] = sim['sim'].apply(lambda x: 1 if (x <= -0.5) and (x>-0.7) else 0 )\n",
        "sim['less_25'] = sim['sim'].apply(lambda x: 1 if (x <= -0.25) and (x>-0.5) else 0 )\n",
        "sim['less_0'] = sim['sim'].apply(lambda x: 1 if (x < 0) and (x>-0.25) else 0 )"
      ],
      "metadata": {
        "id": "CuY6sv4lvOIc"
      },
      "execution_count": null,
      "outputs": []
    },
    {
      "cell_type": "code",
      "source": [
        "df.head()"
      ],
      "metadata": {
        "id": "fuUgT9jS5H1p"
      },
      "execution_count": null,
      "outputs": []
    },
    {
      "cell_type": "code",
      "source": [
        "sim.head()"
      ],
      "metadata": {
        "id": "3s9zb6rD44rA"
      },
      "execution_count": null,
      "outputs": []
    },
    {
      "cell_type": "code",
      "source": [
        "import numpy as np"
      ],
      "metadata": {
        "id": "wXZDLpe96lvB"
      },
      "execution_count": null,
      "outputs": []
    },
    {
      "cell_type": "code",
      "source": [
        "sim = sim.merge(df.rename(columns={'id': 'id1', 'class': 'vote_id1'}), on='id1', how='left')\n",
        "sim = sim.merge(df.rename(columns={'id': 'id2', 'class': 'vote_id2'}), on='id2', how='left')"
      ],
      "metadata": {
        "id": "COzZTvpS9lZR"
      },
      "execution_count": null,
      "outputs": []
    },
    {
      "cell_type": "code",
      "source": [
        "sim.head()"
      ],
      "metadata": {
        "id": "DkxWxulDox24"
      },
      "execution_count": null,
      "outputs": []
    },
    {
      "cell_type": "code",
      "source": [
        "sim[sim['vote_id1']=='K']"
      ],
      "metadata": {
        "id": "JLlWk-OH9peQ"
      },
      "execution_count": null,
      "outputs": []
    },
    {
      "cell_type": "code",
      "source": [
        "sim[sim['id1']==10000]"
      ],
      "metadata": {
        "id": "t7VyVxmfpS-L"
      },
      "execution_count": null,
      "outputs": []
    },
    {
      "cell_type": "code",
      "source": [
        "import numpy as np"
      ],
      "metadata": {
        "id": "FdeVBrOktJEo"
      },
      "execution_count": null,
      "outputs": []
    },
    {
      "cell_type": "code",
      "source": [
        "conditions = [\n",
        "    (sim['sim'] >= 0.9),\n",
        "    (sim['sim'] >= 0.7) & (sim['sim'] < 0.9),\n",
        "    (sim['sim'] >= 0.5) & (sim['sim'] < 0.7),\n",
        "    (sim['sim'] >= 0.25) & (sim['sim'] < 0.5),\n",
        "    (sim['sim'] >= 0) & (sim['sim'] < 0.25),\n",
        "    (sim['sim'] <= -0.9),\n",
        "    (sim['sim'] <= -0.7) & (sim['sim'] > -0.9),\n",
        "    (sim['sim'] <= -0.5) & (sim['sim'] > -0.7),\n",
        "    (sim['sim'] <= -0.25) & (sim['sim'] > -0.5),\n",
        "    (sim['sim'] < 0) & (sim['sim'] > -0.25)\n",
        "]\n",
        "\n",
        "labels = ['more_90', 'more_70', 'more_50', 'more_25', 'more_0',\n",
        "          'less_90', 'less_70', 'less_50', 'less_25', 'less_0']\n",
        "\n",
        "for i, column in enumerate(labels):\n",
        "    sim[column] = np.where(sim['vote_id2'].isna(), 0,\n",
        "                     np.where(sim['vote_id2'] == 'K', 1,\n",
        "                     np.where(sim['vote_id2'] == 'D', 2, 0)))\n",
        "    sim[column] = np.where(conditions[i], sim[column], 0)"
      ],
      "metadata": {
        "id": "EJTY2_yIsxvs"
      },
      "execution_count": null,
      "outputs": []
    },
    {
      "cell_type": "code",
      "source": [
        "grouped = sim.groupby('id1').agg({\n",
        "    'vote_id1': 'first'  # оставляем vote_id1 (можно использовать 'first', 'max' и пр. на ваше усмотрение)\n",
        "})"
      ],
      "metadata": {
        "id": "1UQj44jR3VQs"
      },
      "execution_count": null,
      "outputs": []
    },
    {
      "cell_type": "code",
      "source": [
        "grouped.head()"
      ],
      "metadata": {
        "id": "NxP3vono3WJg"
      },
      "execution_count": null,
      "outputs": []
    },
    {
      "cell_type": "code",
      "source": [
        "labels_more = ['more_90', 'more_70', 'more_50', 'more_25', 'more_0']\n",
        "labels_less = ['less_90', 'less_70', 'less_50', 'less_25', 'less_0']"
      ],
      "metadata": {
        "id": "giovqoS36zvK"
      },
      "execution_count": null,
      "outputs": []
    },
    {
      "cell_type": "code",
      "source": [
        "for column in labels_more:\n",
        "    grouped[f'{column}_K'] = sim[sim[column] == 1].groupby('id1')[column].count() / 100\n",
        "    grouped[f'{column}_D'] = sim[sim[column] == 2].groupby('id1')[column].count() / 100\n",
        "    # grouped[f'{column}_NaN'] = sim[sim[column] == 0].groupby('id1')[column].count() / 100"
      ],
      "metadata": {
        "id": "Q_NHUG5S3gxR"
      },
      "execution_count": null,
      "outputs": []
    },
    {
      "cell_type": "code",
      "source": [
        "for column in labels_less:\n",
        "    grouped[f'{column}_K'] = -sim[sim[column] == 1].groupby('id1')[column].count() / 100\n",
        "    grouped[f'{column}_D'] = -sim[sim[column] == 2].groupby('id1')[column].count() / 100\n",
        "    # grouped[f'{column}_NaN'] = sim[sim[column] == 0].groupby('id1')[column].count() / 100"
      ],
      "metadata": {
        "id": "z4i80ti27ANS"
      },
      "execution_count": null,
      "outputs": []
    },
    {
      "cell_type": "code",
      "source": [
        "grouped.fillna(0, inplace=True)"
      ],
      "metadata": {
        "id": "eeaHXd094GEv"
      },
      "execution_count": null,
      "outputs": []
    },
    {
      "cell_type": "code",
      "source": [
        "grouped.head(20)"
      ],
      "metadata": {
        "id": "Lx8hRjQs3i7B"
      },
      "execution_count": null,
      "outputs": []
    },
    {
      "cell_type": "code",
      "source": [
        "grouped.to_csv('grouped_nto_3.csv')"
      ],
      "metadata": {
        "id": "2Z7lvajfACmW"
      },
      "execution_count": null,
      "outputs": []
    },
    {
      "cell_type": "code",
      "source": [
        "train_grouped = grouped.iloc[0:10000].reset_index(drop=True)  # Строки с 0 по 9999\n",
        "test_grouped = grouped.iloc[10000:11000].reset_index(drop=True)"
      ],
      "metadata": {
        "id": "j1DrsHGE8QjS"
      },
      "execution_count": null,
      "outputs": []
    },
    {
      "cell_type": "code",
      "source": [
        "test_grouped.head()"
      ],
      "metadata": {
        "id": "EjoqfLtq8U1L"
      },
      "execution_count": null,
      "outputs": []
    },
    {
      "cell_type": "code",
      "source": [
        "train_grouped.head()"
      ],
      "metadata": {
        "id": "4K93WkE-8tQK"
      },
      "execution_count": null,
      "outputs": []
    },
    {
      "cell_type": "code",
      "source": [
        "predictions_df = pd.DataFrame()\n",
        "predictions_df['id'] = test_grouped['id1']"
      ],
      "metadata": {
        "id": "7rWmrdbTBay7"
      },
      "execution_count": null,
      "outputs": []
    },
    {
      "cell_type": "code",
      "source": [
        "predictions_df.head()"
      ],
      "metadata": {
        "id": "7ZGTJE2UBhgM"
      },
      "execution_count": null,
      "outputs": []
    },
    {
      "cell_type": "code",
      "source": [
        "test_grouped"
      ],
      "metadata": {
        "id": "mYEn5tuGF7_f"
      },
      "execution_count": null,
      "outputs": []
    },
    {
      "cell_type": "code",
      "source": [
        "#test_grouped.drop(['vote_id1','id1'], axis=1, inplace=True)\n",
        "test_grouped.drop(['vote_id1'], axis=1, inplace=True)"
      ],
      "metadata": {
        "id": "AJnJA6yB8a7Y"
      },
      "execution_count": null,
      "outputs": []
    },
    {
      "cell_type": "code",
      "source": [
        "#grouped['sum'] = grouped.loc[:, grouped.columns.difference(['id1', 'vote_id1'])].sum(axis=1)"
      ],
      "metadata": {
        "id": "6ljenQyH4lMh"
      },
      "execution_count": null,
      "outputs": []
    },
    {
      "cell_type": "code",
      "source": [
        "#grouped.reset_index(inplace=True)"
      ],
      "metadata": {
        "id": "xbOF_0gI6JGf"
      },
      "execution_count": null,
      "outputs": []
    },
    {
      "cell_type": "code",
      "source": [
        "#sim.tail(50)"
      ],
      "metadata": {
        "id": "vH0LbU72tNU2"
      },
      "execution_count": null,
      "outputs": []
    },
    {
      "cell_type": "code",
      "source": [
        "from sklearn.model_selection import train_test_split"
      ],
      "metadata": {
        "id": "0ciOQE9y94qU"
      },
      "execution_count": null,
      "outputs": []
    },
    {
      "cell_type": "code",
      "source": [
        "X = train_grouped.drop(columns=['vote_id1','id1'])  # Убираем vote_id1 из X\n",
        "y = train_grouped['vote_id1']  # Берем vote_id1 в y\n",
        "\n",
        "# Используем train_test_split\n",
        "X_train, X_val, y_train, y_val = train_test_split(X, y, test_size=0.2, random_state=42, stratify=y)"
      ],
      "metadata": {
        "id": "jAYRKI6V98r9"
      },
      "execution_count": null,
      "outputs": []
    },
    {
      "cell_type": "code",
      "source": [
        "!pip install catboost"
      ],
      "metadata": {
        "id": "qvPsVApu-I_V"
      },
      "execution_count": null,
      "outputs": []
    },
    {
      "cell_type": "code",
      "source": [
        "from catboost import CatBoostClassifier"
      ],
      "metadata": {
        "id": "JT8m9RNk-Kyr"
      },
      "execution_count": null,
      "outputs": []
    },
    {
      "cell_type": "code",
      "source": [
        "model = CatBoostClassifier(random_state=42,\n",
        "                           thread_count=-1)"
      ],
      "metadata": {
        "id": "BA6akj0F-OOp"
      },
      "execution_count": null,
      "outputs": []
    },
    {
      "cell_type": "code",
      "source": [
        "model.fit(X_train, y_train,\n",
        "          eval_set=(X_val, y_val),\n",
        "          verbose=100, plot=False,\n",
        "          early_stopping_rounds=100)"
      ],
      "metadata": {
        "id": "m7CLS7aS-T8r"
      },
      "execution_count": null,
      "outputs": []
    },
    {
      "cell_type": "code",
      "source": [
        "from sklearn.metrics import accuracy_score"
      ],
      "metadata": {
        "id": "aTl5HoND_X4B"
      },
      "execution_count": null,
      "outputs": []
    },
    {
      "cell_type": "code",
      "source": [
        "y_pred = model.predict(X_val)"
      ],
      "metadata": {
        "id": "FmIXB6PK-4hX"
      },
      "execution_count": null,
      "outputs": []
    },
    {
      "cell_type": "code",
      "source": [
        "accuracy = accuracy_score(y_val, y_pred)\n",
        "accuracy"
      ],
      "metadata": {
        "id": "XCYm52t__bJl"
      },
      "execution_count": null,
      "outputs": []
    },
    {
      "cell_type": "markdown",
      "source": [
        "**Тут обучаем train + test**"
      ],
      "metadata": {
        "id": "VMkBo2NDBs_i"
      }
    },
    {
      "cell_type": "code",
      "source": [
        "train_grouped.head()"
      ],
      "metadata": {
        "id": "jmDo3nUjCD1j"
      },
      "execution_count": null,
      "outputs": []
    },
    {
      "cell_type": "code",
      "source": [
        "test_grouped.head()"
      ],
      "metadata": {
        "id": "366i9bVYCFzV"
      },
      "execution_count": null,
      "outputs": []
    },
    {
      "cell_type": "code",
      "source": [
        "#X_train = train_grouped.drop(columns=['vote_id1', 'id1'])  # Убираем 'vote_id1' и 'id1' из train\n",
        "X_train = train_grouped.drop(columns=['vote_id1'])  # Убираем 'vote_id1' и 'id1' из train\n",
        "y_train = train_grouped['vote_id1']  # Берем 'vote_id1' в y\n",
        "\n",
        "# Для тестовой выборки\n",
        "X_test = test_grouped"
      ],
      "metadata": {
        "id": "zNGCKUvUBv2V"
      },
      "execution_count": null,
      "outputs": []
    },
    {
      "cell_type": "code",
      "source": [
        "model_check = CatBoostClassifier(random_state=42,\n",
        "                           thread_count=-1)"
      ],
      "metadata": {
        "id": "LrN3FrtrDbDy"
      },
      "execution_count": null,
      "outputs": []
    },
    {
      "cell_type": "code",
      "source": [
        "model_check.fit(X_train, y_train,\n",
        "          verbose=100, plot=False,\n",
        "          early_stopping_rounds=100)"
      ],
      "metadata": {
        "id": "j0jYiwGEDe3s"
      },
      "execution_count": null,
      "outputs": []
    },
    {
      "cell_type": "code",
      "source": [
        "pred = model_check.predict(X_test)"
      ],
      "metadata": {
        "id": "GKpBM93NDpCM"
      },
      "execution_count": null,
      "outputs": []
    },
    {
      "cell_type": "code",
      "source": [
        "pred.shape"
      ],
      "metadata": {
        "id": "7k8uvLA3Hbg9"
      },
      "execution_count": null,
      "outputs": []
    },
    {
      "cell_type": "code",
      "source": [
        "grouped_11000 = grouped.copy()"
      ],
      "metadata": {
        "id": "KsUuAosTHDmT"
      },
      "execution_count": null,
      "outputs": []
    },
    {
      "cell_type": "code",
      "source": [
        "grouped_11000.head()"
      ],
      "metadata": {
        "id": "1xujsP7OHIGr"
      },
      "execution_count": null,
      "outputs": []
    },
    {
      "cell_type": "code",
      "source": [
        "pred.shape"
      ],
      "metadata": {
        "id": "mYioWx5KDtmJ"
      },
      "execution_count": null,
      "outputs": []
    },
    {
      "cell_type": "code",
      "source": [
        "grouped_11000.reset_index(inplace=True)"
      ],
      "metadata": {
        "id": "A5hWqMO4INbr"
      },
      "execution_count": null,
      "outputs": []
    },
    {
      "cell_type": "code",
      "source": [
        "grouped_11000.loc[(grouped_11000['id1'] >= 10000) & (grouped_11000['id1'] < 11000), 'vote_id1'] = pred"
      ],
      "metadata": {
        "id": "NMwND4zwIHpC"
      },
      "execution_count": null,
      "outputs": []
    },
    {
      "cell_type": "code",
      "source": [
        "#pred"
      ],
      "metadata": {
        "id": "y49CEK48Ipix"
      },
      "execution_count": null,
      "outputs": []
    },
    {
      "cell_type": "code",
      "source": [
        "grouped_11000[grouped_11000['id1'] == 10001]"
      ],
      "metadata": {
        "id": "mwXaHJ8aIYSF"
      },
      "execution_count": null,
      "outputs": []
    },
    {
      "cell_type": "markdown",
      "source": [
        "**Начинаем учить**"
      ],
      "metadata": {
        "id": "hNU4zaWPdcwO"
      }
    },
    {
      "cell_type": "code",
      "source": [
        "sim = sim.copy()\n",
        "sim = sim.sort_values(by=['id1', 'id2']).reset_index(drop=True)\n",
        "sim = sim.merge(df.rename(columns={'id': 'id1', 'class': 'vote_id1'}), on='id1', how='left')\n",
        "sim = sim.merge(df.rename(columns={'id': 'id2', 'class': 'vote_id2'}), on='id2', how='left')"
      ],
      "metadata": {
        "id": "hYpPvxQ0dU0_"
      },
      "execution_count": null,
      "outputs": []
    },
    {
      "cell_type": "code",
      "source": [
        "conditions = [\n",
        "    (sim['sim'] >= 0.9),\n",
        "    (sim['sim'] >= 0.7) & (sim['sim'] < 0.9),\n",
        "    (sim['sim'] >= 0.5) & (sim['sim'] < 0.7),\n",
        "    (sim['sim'] >= 0.25) & (sim['sim'] < 0.5),\n",
        "    (sim['sim'] >= 0) & (sim['sim'] < 0.25),\n",
        "    (sim['sim'] <= -0.9),\n",
        "    (sim['sim'] <= -0.7) & (sim['sim'] > -0.9),\n",
        "    (sim['sim'] <= -0.5) & (sim['sim'] > -0.7),\n",
        "    (sim['sim'] <= -0.25) & (sim['sim'] > -0.5),\n",
        "    (sim['sim'] < 0) & (sim['sim'] > -0.25)\n",
        "]\n",
        "\n",
        "labels = ['more_90', 'more_70', 'more_50', 'more_25', 'more_0',\n",
        "          'less_90', 'less_70', 'less_50', 'less_25', 'less_0']\n",
        "\n",
        "for i, column in enumerate(labels):\n",
        "    sim[column] = np.where(sim['vote_id2'].isna(), 0,\n",
        "                     np.where(sim['vote_id2'] == 'K', 1,\n",
        "                     np.where(sim['vote_id2'] == 'D', 2, 0)))\n",
        "    sim[column] = np.where(conditions[i], sim[column], 0)\n",
        "\n",
        "\n",
        "grouped = sim.groupby('id1').agg({\n",
        "    'vote_id1': 'first'  # оставляем vote_id1 (можно использовать 'first', 'max' и пр. на ваше усмотрение)\n",
        "})\n",
        "\n",
        "labels_more = ['more_90', 'more_70', 'more_50', 'more_25', 'more_0']\n",
        "labels_less = ['less_90', 'less_70', 'less_50', 'less_25', 'less_0']\n",
        "\n",
        "for column in labels_more:\n",
        "    grouped[f'{column}_K'] = sim[sim[column] == 1].groupby('id1')[column].count() / 100\n",
        "    grouped[f'{column}_D'] = sim[sim[column] == 2].groupby('id1')[column].count() / 100\n",
        "    # grouped[f'{column}_NaN'] = sim[sim[column] == 0].groupby('id1')[column].count() / 100\n",
        "\n",
        "for column in labels_less:\n",
        "    grouped[f'{column}_K'] = -sim[sim[column] == 1].groupby('id1')[column].count() / 100\n",
        "    grouped[f'{column}_D'] = -sim[sim[column] == 2].groupby('id1')[column].count() / 100\n",
        "    # grouped[f'{column}_NaN'] = sim[sim[column] == 0].groupby('id1')[column].count() / 100\n",
        "\n",
        "grouped.fillna(0, inplace=True)\n",
        "grouped.reset_index(inplace=True)\n",
        "\n",
        "train_grouped = grouped.iloc[0:10000].reset_index(drop=True)  # Строки с 0 по 9999\n",
        "test_grouped = grouped.iloc[10000:11000].reset_index(drop=True)\n",
        "\n",
        "# predictions_df = pd.DataFrame()\n",
        "# predictions_df['id'] = test_grouped['id1']"
      ],
      "metadata": {
        "id": "G9qKNSdtdiMe"
      },
      "execution_count": null,
      "outputs": []
    },
    {
      "cell_type": "code",
      "source": [
        "X_train = train_grouped.drop(columns=['vote_id1', 'id1'])  # Убираем 'vote_id1' и 'id1' из train\n",
        "y_train = train_grouped['vote_id1']  # Берем 'vote_id1' в y\n",
        "\n",
        "# Для тестовой выборки\n",
        "X_test = test_grouped.drop(columns=['vote_id1', 'id1'])  # Убираем 'vote_id1' и 'id1' из test\n",
        "\n",
        "model_check = CatBoostClassifier(random_state=42,\n",
        "                           thread_count=-1)\n",
        "model_check.fit(X_train, y_train,\n",
        "          verbose=100, plot=False,\n",
        "          early_stopping_rounds=100)\n",
        "\n",
        "pred = model_check.predict(X_test)"
      ],
      "metadata": {
        "id": "dAwymObYd6hG"
      },
      "execution_count": null,
      "outputs": []
    },
    {
      "cell_type": "code",
      "source": [
        "fi = model_check.get_feature_importance(prettified=True)\n",
        "fi"
      ],
      "metadata": {
        "id": "mjFDWFqyTGeh"
      },
      "execution_count": null,
      "outputs": []
    },
    {
      "cell_type": "markdown",
      "source": [
        "**Заполнены 11000 строчек**"
      ],
      "metadata": {
        "id": "zyu0-4kOI-eM"
      }
    },
    {
      "cell_type": "code",
      "source": [
        "df_11000 = df.copy()\n",
        "new_ids = pd.DataFrame({'id': range(10000, 11000), 'class': pred})\n",
        "df = pd.concat([df_11000, new_ids], ignore_index=True)\n",
        "sim = sim.copy()\n",
        "sim = sim.sort_values(by=['id1', 'id2']).reset_index(drop=True)\n",
        "sim.drop(['vote_id1', 'vote_id2'], axis=1, inplace=True)\n",
        "sim = sim.merge(df.rename(columns={'id': 'id1', 'class': 'vote_id1'}), on='id1', how='left')\n",
        "sim = sim.merge(df.rename(columns={'id': 'id2', 'class': 'vote_id2'}), on='id2', how='left')"
      ],
      "metadata": {
        "id": "zWhBPyKUIysK"
      },
      "execution_count": null,
      "outputs": []
    },
    {
      "cell_type": "code",
      "source": [
        "#df"
      ],
      "metadata": {
        "id": "AZZyBWB5ePk4"
      },
      "execution_count": null,
      "outputs": []
    },
    {
      "cell_type": "code",
      "source": [
        "#sim"
      ],
      "metadata": {
        "id": "wHhcqNSVOquh"
      },
      "execution_count": null,
      "outputs": []
    },
    {
      "cell_type": "code",
      "source": [
        "conditions = [\n",
        "    (sim['sim'] >= 0.9),\n",
        "    (sim['sim'] >= 0.7) & (sim['sim'] < 0.9),\n",
        "    (sim['sim'] >= 0.5) & (sim['sim'] < 0.7),\n",
        "    (sim['sim'] >= 0.25) & (sim['sim'] < 0.5),\n",
        "    (sim['sim'] >= 0) & (sim['sim'] < 0.25),\n",
        "    (sim['sim'] <= -0.9),\n",
        "    (sim['sim'] <= -0.7) & (sim['sim'] > -0.9),\n",
        "    (sim['sim'] <= -0.5) & (sim['sim'] > -0.7),\n",
        "    (sim['sim'] <= -0.25) & (sim['sim'] > -0.5),\n",
        "    (sim['sim'] < 0) & (sim['sim'] > -0.25)\n",
        "]\n",
        "\n",
        "labels = ['more_90', 'more_70', 'more_50', 'more_25', 'more_0',\n",
        "          'less_90', 'less_70', 'less_50', 'less_25', 'less_0']\n",
        "\n",
        "for i, column in enumerate(labels):\n",
        "    sim[column] = np.where(sim['vote_id2'].isna(), 0,\n",
        "                     np.where(sim['vote_id2'] == 'K', 1,\n",
        "                     np.where(sim['vote_id2'] == 'D', 2, 0)))\n",
        "    sim[column] = np.where(conditions[i], sim[column], 0)\n",
        "\n",
        "\n",
        "grouped = sim.groupby('id1').agg({\n",
        "    'vote_id1': 'first'  # оставляем vote_id1 (можно использовать 'first', 'max' и пр. на ваше усмотрение)\n",
        "})\n",
        "\n",
        "labels_more = ['more_90', 'more_70', 'more_50', 'more_25', 'more_0']\n",
        "labels_less = ['less_90', 'less_70', 'less_50', 'less_25', 'less_0']\n",
        "\n",
        "for column in labels_more:\n",
        "    grouped[f'{column}_K'] = sim[sim[column] == 1].groupby('id1')[column].count() / 100\n",
        "    grouped[f'{column}_D'] = sim[sim[column] == 2].groupby('id1')[column].count() / 100\n",
        "    # grouped[f'{column}_NaN'] = sim[sim[column] == 0].groupby('id1')[column].count() / 100\n",
        "\n",
        "for column in labels_less:\n",
        "    grouped[f'{column}_K'] = -sim[sim[column] == 1].groupby('id1')[column].count() / 100\n",
        "    grouped[f'{column}_D'] = -sim[sim[column] == 2].groupby('id1')[column].count() / 100\n",
        "    # grouped[f'{column}_NaN'] = sim[sim[column] == 0].groupby('id1')[column].count() / 100\n",
        "\n",
        "grouped.fillna(0, inplace=True)\n",
        "grouped.reset_index(inplace=True)\n",
        "\n",
        "train_grouped = grouped.iloc[0:11000].reset_index(drop=True)  # Строки с 0 по 9999\n",
        "test_grouped = grouped.iloc[11000:12000].reset_index(drop=True)\n",
        "\n",
        "# predictions_df = pd.DataFrame()\n",
        "# predictions_df['id'] = test_grouped['id1']"
      ],
      "metadata": {
        "id": "IYGs7IAuJrEv"
      },
      "execution_count": null,
      "outputs": []
    },
    {
      "cell_type": "code",
      "source": [
        "test_grouped.head()"
      ],
      "metadata": {
        "id": "GFQRp92TX0oQ"
      },
      "execution_count": null,
      "outputs": []
    },
    {
      "cell_type": "code",
      "source": [
        "X_train = train_grouped.drop(columns=['vote_id1', 'id1'])  # Убираем 'vote_id1' и 'id1' из train\n",
        "y_train = train_grouped['vote_id1']  # Берем 'vote_id1' в y\n",
        "\n",
        "# Для тестовой выборки\n",
        "X_test = test_grouped.drop(columns=['vote_id1', 'id1'])  # Убираем 'vote_id1' и 'id1' из test\n",
        "\n",
        "model_check = CatBoostClassifier(random_state=42,\n",
        "                           thread_count=-1)\n",
        "model_check.fit(X_train, y_train,\n",
        "          verbose=100, plot=False,\n",
        "          early_stopping_rounds=100)\n",
        "\n",
        "pred = model_check.predict(X_test)"
      ],
      "metadata": {
        "id": "s9JO-GhcXbJa"
      },
      "execution_count": null,
      "outputs": []
    },
    {
      "cell_type": "code",
      "source": [
        "fi = model_check.get_feature_importance(prettified=True)\n",
        "fi"
      ],
      "metadata": {
        "id": "-8XWJ-xoTdGf"
      },
      "execution_count": null,
      "outputs": []
    },
    {
      "cell_type": "code",
      "source": [
        "sim.shape"
      ],
      "metadata": {
        "id": "e4kBwNWgabZ9"
      },
      "execution_count": null,
      "outputs": []
    },
    {
      "cell_type": "code",
      "source": [
        "df_12000 = df.copy()\n",
        "new_ids = pd.DataFrame({'id': range(11000, 12000), 'class': pred})\n",
        "df = pd.concat([df_12000, new_ids], ignore_index=True)\n",
        "sim = sim.copy()\n",
        "sim = sim.sort_values(by=['id1', 'id2']).reset_index(drop=True)\n",
        "sim.drop(['vote_id1', 'vote_id2'], axis=1, inplace=True)\n",
        "sim = sim.merge(df.rename(columns={'id': 'id1', 'class': 'vote_id1'}), on='id1', how='left')\n",
        "sim = sim.merge(df.rename(columns={'id': 'id2', 'class': 'vote_id2'}), on='id2', how='left')"
      ],
      "metadata": {
        "id": "Z9Zy1mz8Ycbd"
      },
      "execution_count": null,
      "outputs": []
    },
    {
      "cell_type": "code",
      "source": [
        "#df"
      ],
      "metadata": {
        "id": "ho_09oNiej5Z"
      },
      "execution_count": null,
      "outputs": []
    },
    {
      "cell_type": "code",
      "source": [],
      "metadata": {
        "id": "vVWCSA-jec-Y"
      },
      "execution_count": null,
      "outputs": []
    },
    {
      "cell_type": "code",
      "source": [
        "sim.head()"
      ],
      "metadata": {
        "id": "HsJC9EnUYv6X"
      },
      "execution_count": null,
      "outputs": []
    },
    {
      "cell_type": "code",
      "source": [
        "conditions = [\n",
        "    (sim['sim'] >= 0.9),\n",
        "    (sim['sim'] >= 0.7) & (sim['sim'] < 0.9),\n",
        "    (sim['sim'] >= 0.5) & (sim['sim'] < 0.7),\n",
        "    (sim['sim'] >= 0.25) & (sim['sim'] < 0.5),\n",
        "    (sim['sim'] >= 0) & (sim['sim'] < 0.25),\n",
        "    (sim['sim'] <= -0.9),\n",
        "    (sim['sim'] <= -0.7) & (sim['sim'] > -0.9),\n",
        "    (sim['sim'] <= -0.5) & (sim['sim'] > -0.7),\n",
        "    (sim['sim'] <= -0.25) & (sim['sim'] > -0.5),\n",
        "    (sim['sim'] < 0) & (sim['sim'] > -0.25)\n",
        "]\n",
        "\n",
        "labels = ['more_90', 'more_70', 'more_50', 'more_25', 'more_0',\n",
        "          'less_90', 'less_70', 'less_50', 'less_25', 'less_0']\n",
        "\n",
        "for i, column in enumerate(labels):\n",
        "    sim[column] = np.where(sim['vote_id2'].isna(), 0,\n",
        "                     np.where(sim['vote_id2'] == 'K', 1,\n",
        "                     np.where(sim['vote_id2'] == 'D', 2, 0)))\n",
        "    sim[column] = np.where(conditions[i], sim[column], 0)\n",
        "\n",
        "\n",
        "grouped = sim.groupby('id1').agg({\n",
        "    'vote_id1': 'first'  # оставляем vote_id1 (можно использовать 'first', 'max' и пр. на ваше усмотрение)\n",
        "})\n",
        "\n",
        "labels_more = ['more_90', 'more_70', 'more_50', 'more_25', 'more_0']\n",
        "labels_less = ['less_90', 'less_70', 'less_50', 'less_25', 'less_0']\n",
        "\n",
        "for column in labels_more:\n",
        "    grouped[f'{column}_K'] = sim[sim[column] == 1].groupby('id1')[column].count() / 100\n",
        "    grouped[f'{column}_D'] = sim[sim[column] == 2].groupby('id1')[column].count() / 100\n",
        "    # grouped[f'{column}_NaN'] = sim[sim[column] == 0].groupby('id1')[column].count() / 100\n",
        "\n",
        "for column in labels_less:\n",
        "    grouped[f'{column}_K'] = -sim[sim[column] == 1].groupby('id1')[column].count() / 100\n",
        "    grouped[f'{column}_D'] = -sim[sim[column] == 2].groupby('id1')[column].count() / 100\n",
        "    # grouped[f'{column}_NaN'] = sim[sim[column] == 0].groupby('id1')[column].count() / 100\n",
        "\n",
        "grouped.fillna(0, inplace=True)\n",
        "grouped.reset_index(inplace=True)\n",
        "\n",
        "train_grouped = grouped.iloc[0:12000].reset_index(drop=True)  # Строки с 0 по 9999\n",
        "test_grouped = grouped.iloc[12000:13000].reset_index(drop=True)\n",
        "\n",
        "predictions_df = pd.DataFrame()\n",
        "predictions_df['id'] = test_grouped['id1']"
      ],
      "metadata": {
        "id": "eV4eoIHMYiCS"
      },
      "execution_count": null,
      "outputs": []
    },
    {
      "cell_type": "code",
      "source": [
        "X_train = train_grouped.drop(columns=['vote_id1', 'id1'])  # Убираем 'vote_id1' и 'id1' из train\n",
        "y_train = train_grouped['vote_id1']  # Берем 'vote_id1' в y\n",
        "\n",
        "# Для тестовой выборки\n",
        "X_test = test_grouped.drop(columns=['vote_id1', 'id1'])  # Убираем 'vote_id1' и 'id1' из test\n",
        "\n",
        "model_check = CatBoostClassifier(random_state=42,\n",
        "                           thread_count=-1)\n",
        "model_check.fit(X_train, y_train,\n",
        "          verbose=100, plot=False,\n",
        "          early_stopping_rounds=100)\n",
        "\n",
        "pred = model_check.predict(X_test)"
      ],
      "metadata": {
        "id": "_LtVJ9yZa7Cg"
      },
      "execution_count": null,
      "outputs": []
    },
    {
      "cell_type": "code",
      "source": [
        "fi = model_check.get_feature_importance(prettified=True)\n",
        "fi"
      ],
      "metadata": {
        "id": "m27tAhaRTk1m"
      },
      "execution_count": null,
      "outputs": []
    },
    {
      "cell_type": "markdown",
      "source": [
        "**13000 заполненных**"
      ],
      "metadata": {
        "id": "XZG7lJFAbo_R"
      }
    },
    {
      "cell_type": "code",
      "source": [
        "df_13000 = df.copy()\n",
        "new_ids = pd.DataFrame({'id': range(12000, 13000), 'class': pred})\n",
        "df = pd.concat([df_13000, new_ids], ignore_index=True)\n",
        "sim = sim.copy()\n",
        "sim = sim.sort_values(by=['id1', 'id2']).reset_index(drop=True)\n",
        "sim.drop(['vote_id1', 'vote_id2'], axis=1, inplace=True)\n",
        "sim = sim.merge(df.rename(columns={'id': 'id1', 'class': 'vote_id1'}), on='id1', how='left')\n",
        "sim = sim.merge(df.rename(columns={'id': 'id2', 'class': 'vote_id2'}), on='id2', how='left')"
      ],
      "metadata": {
        "id": "nKYQuCB3bT4n"
      },
      "execution_count": null,
      "outputs": []
    },
    {
      "cell_type": "code",
      "source": [
        "df.tail()"
      ],
      "metadata": {
        "id": "n0AcgAYgftMW"
      },
      "execution_count": null,
      "outputs": []
    },
    {
      "cell_type": "code",
      "source": [
        "conditions = [\n",
        "    (sim['sim'] >= 0.9),\n",
        "    (sim['sim'] >= 0.7) & (sim['sim'] < 0.9),\n",
        "    (sim['sim'] >= 0.5) & (sim['sim'] < 0.7),\n",
        "    (sim['sim'] >= 0.25) & (sim['sim'] < 0.5),\n",
        "    (sim['sim'] >= 0) & (sim['sim'] < 0.25),\n",
        "    (sim['sim'] <= -0.9),\n",
        "    (sim['sim'] <= -0.7) & (sim['sim'] > -0.9),\n",
        "    (sim['sim'] <= -0.5) & (sim['sim'] > -0.7),\n",
        "    (sim['sim'] <= -0.25) & (sim['sim'] > -0.5),\n",
        "    (sim['sim'] < 0) & (sim['sim'] > -0.25)\n",
        "]\n",
        "\n",
        "labels = ['more_90', 'more_70', 'more_50', 'more_25', 'more_0',\n",
        "          'less_90', 'less_70', 'less_50', 'less_25', 'less_0']\n",
        "\n",
        "for i, column in enumerate(labels):\n",
        "    sim[column] = np.where(sim['vote_id2'].isna(), 0,\n",
        "                     np.where(sim['vote_id2'] == 'K', 1,\n",
        "                     np.where(sim['vote_id2'] == 'D', 2, 0)))\n",
        "    sim[column] = np.where(conditions[i], sim[column], 0)\n",
        "\n",
        "\n",
        "grouped = sim.groupby('id1').agg({\n",
        "    'vote_id1': 'first'  # оставляем vote_id1 (можно использовать 'first', 'max' и пр. на ваше усмотрение)\n",
        "})\n",
        "\n",
        "labels_more = ['more_90', 'more_70', 'more_50', 'more_25', 'more_0']\n",
        "labels_less = ['less_90', 'less_70', 'less_50', 'less_25', 'less_0']\n",
        "\n",
        "for column in labels_more:\n",
        "    grouped[f'{column}_K'] = sim[sim[column] == 1].groupby('id1')[column].count() / 100\n",
        "    grouped[f'{column}_D'] = sim[sim[column] == 2].groupby('id1')[column].count() / 100\n",
        "    # grouped[f'{column}_NaN'] = sim[sim[column] == 0].groupby('id1')[column].count() / 100\n",
        "\n",
        "for column in labels_less:\n",
        "    grouped[f'{column}_K'] = -sim[sim[column] == 1].groupby('id1')[column].count() / 100\n",
        "    grouped[f'{column}_D'] = -sim[sim[column] == 2].groupby('id1')[column].count() / 100\n",
        "    # grouped[f'{column}_NaN'] = sim[sim[column] == 0].groupby('id1')[column].count() / 100\n",
        "\n",
        "grouped.fillna(0, inplace=True)\n",
        "grouped.reset_index(inplace=True)\n",
        "\n",
        "train_grouped = grouped.iloc[0:13000].reset_index(drop=True)  # Строки с 0 по 9999\n",
        "test_grouped = grouped.iloc[13000:14000].reset_index(drop=True)\n",
        "\n",
        "predictions_df = pd.DataFrame()\n",
        "predictions_df['id'] = test_grouped['id1']"
      ],
      "metadata": {
        "id": "w7NNSafNbZX3"
      },
      "execution_count": null,
      "outputs": []
    },
    {
      "cell_type": "code",
      "source": [
        "X_train = train_grouped.drop(columns=['vote_id1', 'id1'])  # Убираем 'vote_id1' и 'id1' из train\n",
        "y_train = train_grouped['vote_id1']  # Берем 'vote_id1' в y\n",
        "\n",
        "# Для тестовой выборки\n",
        "X_test = test_grouped.drop(columns=['vote_id1', 'id1'])  # Убираем 'vote_id1' и 'id1' из test\n",
        "\n",
        "model_check = CatBoostClassifier(random_state=42,\n",
        "                           thread_count=-1)\n",
        "model_check.fit(X_train, y_train,\n",
        "          verbose=100, plot=False,\n",
        "          early_stopping_rounds=100)\n",
        "\n",
        "pred = model_check.predict(X_test)"
      ],
      "metadata": {
        "id": "-ZSIn_OzbmJW"
      },
      "execution_count": null,
      "outputs": []
    },
    {
      "cell_type": "code",
      "source": [
        "fi = model_check.get_feature_importance(prettified=True)\n",
        "fi"
      ],
      "metadata": {
        "id": "-IhFnX62T2ZY"
      },
      "execution_count": null,
      "outputs": []
    },
    {
      "cell_type": "markdown",
      "source": [
        "**14000 заполненных**"
      ],
      "metadata": {
        "id": "cxmNmyUVbus3"
      }
    },
    {
      "cell_type": "code",
      "source": [
        "df_14000 = df.copy()\n",
        "new_ids = pd.DataFrame({'id': range(13000, 14000), 'class': pred})\n",
        "df = pd.concat([df_14000, new_ids], ignore_index=True)\n",
        "sim = sim.copy()\n",
        "sim = sim.sort_values(by=['id1', 'id2']).reset_index(drop=True)\n",
        "sim.drop(['vote_id1', 'vote_id2'], axis=1, inplace=True)\n",
        "sim = sim.merge(df.rename(columns={'id': 'id1', 'class': 'vote_id1'}), on='id1', how='left')\n",
        "sim = sim.merge(df.rename(columns={'id': 'id2', 'class': 'vote_id2'}), on='id2', how='left')"
      ],
      "metadata": {
        "id": "TiEjKZdzbuPT"
      },
      "execution_count": null,
      "outputs": []
    },
    {
      "cell_type": "code",
      "source": [
        "df.tail()"
      ],
      "metadata": {
        "id": "qmgksncFfyWT"
      },
      "execution_count": null,
      "outputs": []
    },
    {
      "cell_type": "code",
      "source": [
        "conditions = [\n",
        "    (sim['sim'] >= 0.9),\n",
        "    (sim['sim'] >= 0.7) & (sim['sim'] < 0.9),\n",
        "    (sim['sim'] >= 0.5) & (sim['sim'] < 0.7),\n",
        "    (sim['sim'] >= 0.25) & (sim['sim'] < 0.5),\n",
        "    (sim['sim'] >= 0) & (sim['sim'] < 0.25),\n",
        "    (sim['sim'] <= -0.9),\n",
        "    (sim['sim'] <= -0.7) & (sim['sim'] > -0.9),\n",
        "    (sim['sim'] <= -0.5) & (sim['sim'] > -0.7),\n",
        "    (sim['sim'] <= -0.25) & (sim['sim'] > -0.5),\n",
        "    (sim['sim'] < 0) & (sim['sim'] > -0.25)\n",
        "]\n",
        "\n",
        "labels = ['more_90', 'more_70', 'more_50', 'more_25', 'more_0',\n",
        "          'less_90', 'less_70', 'less_50', 'less_25', 'less_0']\n",
        "\n",
        "for i, column in enumerate(labels):\n",
        "    sim[column] = np.where(sim['vote_id2'].isna(), 0,\n",
        "                     np.where(sim['vote_id2'] == 'K', 1,\n",
        "                     np.where(sim['vote_id2'] == 'D', 2, 0)))\n",
        "    sim[column] = np.where(conditions[i], sim[column], 0)\n",
        "\n",
        "\n",
        "grouped = sim.groupby('id1').agg({\n",
        "    'vote_id1': 'first'  # оставляем vote_id1 (можно использовать 'first', 'max' и пр. на ваше усмотрение)\n",
        "})\n",
        "\n",
        "labels_more = ['more_90', 'more_70', 'more_50', 'more_25', 'more_0']\n",
        "labels_less = ['less_90', 'less_70', 'less_50', 'less_25', 'less_0']\n",
        "\n",
        "for column in labels_more:\n",
        "    grouped[f'{column}_K'] = sim[sim[column] == 1].groupby('id1')[column].count() / 100\n",
        "    grouped[f'{column}_D'] = sim[sim[column] == 2].groupby('id1')[column].count() / 100\n",
        "    # grouped[f'{column}_NaN'] = sim[sim[column] == 0].groupby('id1')[column].count() / 100\n",
        "\n",
        "for column in labels_less:\n",
        "    grouped[f'{column}_K'] = -sim[sim[column] == 1].groupby('id1')[column].count() / 100\n",
        "    grouped[f'{column}_D'] = -sim[sim[column] == 2].groupby('id1')[column].count() / 100\n",
        "    # grouped[f'{column}_NaN'] = sim[sim[column] == 0].groupby('id1')[column].count() / 100\n",
        "\n",
        "grouped.fillna(0, inplace=True)\n",
        "grouped.reset_index(inplace=True)\n",
        "\n",
        "train_grouped = grouped.iloc[0:14000].reset_index(drop=True)  # Строки с 0 по 9999\n",
        "test_grouped = grouped.iloc[14000:15000].reset_index(drop=True)\n",
        "\n",
        "predictions_df = pd.DataFrame()\n",
        "predictions_df['id'] = test_grouped['id1']"
      ],
      "metadata": {
        "id": "Rtn-0l8Tb9sQ"
      },
      "execution_count": null,
      "outputs": []
    },
    {
      "cell_type": "code",
      "source": [
        "X_train = train_grouped.drop(columns=['vote_id1', 'id1'])  # Убираем 'vote_id1' и 'id1' из train\n",
        "y_train = train_grouped['vote_id1']  # Берем 'vote_id1' в y\n",
        "\n",
        "# Для тестовой выборки\n",
        "X_test = test_grouped.drop(columns=['vote_id1', 'id1'])  # Убираем 'vote_id1' и 'id1' из test\n",
        "\n",
        "model_check = CatBoostClassifier(random_state=42,\n",
        "                           thread_count=-1)\n",
        "model_check.fit(X_train, y_train,\n",
        "          verbose=100, plot=False,\n",
        "          early_stopping_rounds=100)\n",
        "\n",
        "pred = model_check.predict(X_test)"
      ],
      "metadata": {
        "id": "aeLFp2CicDXS"
      },
      "execution_count": null,
      "outputs": []
    },
    {
      "cell_type": "code",
      "source": [
        "fi = model_check.get_feature_importance(prettified=True)\n",
        "fi"
      ],
      "metadata": {
        "id": "1kia3_-aUKHD"
      },
      "execution_count": null,
      "outputs": []
    },
    {
      "cell_type": "code",
      "source": [
        "df_15000 = df.copy()\n",
        "new_ids = pd.DataFrame({'id': range(14000, 15000), 'class': pred})\n",
        "df = pd.concat([df_15000, new_ids], ignore_index=True)\n",
        "sim = sim.copy()\n",
        "sim = sim.sort_values(by=['id1', 'id2']).reset_index(drop=True)\n",
        "sim.drop(['vote_id1', 'vote_id2'], axis=1, inplace=True)\n",
        "sim = sim.merge(df.rename(columns={'id': 'id1', 'class': 'vote_id1'}), on='id1', how='left')\n",
        "sim = sim.merge(df.rename(columns={'id': 'id2', 'class': 'vote_id2'}), on='id2', how='left')"
      ],
      "metadata": {
        "id": "jogMDrnQcKWs"
      },
      "execution_count": null,
      "outputs": []
    },
    {
      "cell_type": "code",
      "source": [
        "conditions = [\n",
        "    (sim['sim'] >= 0.9),\n",
        "    (sim['sim'] >= 0.7) & (sim['sim'] < 0.9),\n",
        "    (sim['sim'] >= 0.5) & (sim['sim'] < 0.7),\n",
        "    (sim['sim'] >= 0.25) & (sim['sim'] < 0.5),\n",
        "    (sim['sim'] >= 0) & (sim['sim'] < 0.25),\n",
        "    (sim['sim'] <= -0.9),\n",
        "    (sim['sim'] <= -0.7) & (sim['sim'] > -0.9),\n",
        "    (sim['sim'] <= -0.5) & (sim['sim'] > -0.7),\n",
        "    (sim['sim'] <= -0.25) & (sim['sim'] > -0.5),\n",
        "    (sim['sim'] < 0) & (sim['sim'] > -0.25)\n",
        "]\n",
        "\n",
        "labels = ['more_90', 'more_70', 'more_50', 'more_25', 'more_0',\n",
        "          'less_90', 'less_70', 'less_50', 'less_25', 'less_0']\n",
        "\n",
        "for i, column in enumerate(labels):\n",
        "    sim[column] = np.where(sim['vote_id2'].isna(), 0,\n",
        "                     np.where(sim['vote_id2'] == 'K', 1,\n",
        "                     np.where(sim['vote_id2'] == 'D', 2, 0)))\n",
        "    sim[column] = np.where(conditions[i], sim[column], 0)\n",
        "\n",
        "\n",
        "grouped = sim.groupby('id1').agg({\n",
        "    'vote_id1': 'first'  # оставляем vote_id1 (можно использовать 'first', 'max' и пр. на ваше усмотрение)\n",
        "})\n",
        "\n",
        "labels_more = ['more_90', 'more_70', 'more_50', 'more_25', 'more_0']\n",
        "labels_less = ['less_90', 'less_70', 'less_50', 'less_25', 'less_0']\n",
        "\n",
        "for column in labels_more:\n",
        "    grouped[f'{column}_K'] = sim[sim[column] == 1].groupby('id1')[column].count() / 100\n",
        "    grouped[f'{column}_D'] = sim[sim[column] == 2].groupby('id1')[column].count() / 100\n",
        "    # grouped[f'{column}_NaN'] = sim[sim[column] == 0].groupby('id1')[column].count() / 100\n",
        "\n",
        "for column in labels_less:\n",
        "    grouped[f'{column}_K'] = -sim[sim[column] == 1].groupby('id1')[column].count() / 100\n",
        "    grouped[f'{column}_D'] = -sim[sim[column] == 2].groupby('id1')[column].count() / 100\n",
        "    # grouped[f'{column}_NaN'] = sim[sim[column] == 0].groupby('id1')[column].count() / 100\n",
        "\n",
        "grouped.fillna(0, inplace=True)\n",
        "grouped.reset_index(inplace=True)"
      ],
      "metadata": {
        "id": "lrEPmpnMrTG7"
      },
      "execution_count": null,
      "outputs": []
    },
    {
      "cell_type": "code",
      "source": [
        "grouped[grouped['id1']==14991]"
      ],
      "metadata": {
        "id": "iJucSY4rrX8o"
      },
      "execution_count": null,
      "outputs": []
    },
    {
      "cell_type": "code",
      "source": [
        "df.tail()"
      ],
      "metadata": {
        "id": "JlROqqKLf5L6"
      },
      "execution_count": null,
      "outputs": []
    },
    {
      "cell_type": "code",
      "source": [
        "predictions = df.loc[10000:14999]"
      ],
      "metadata": {
        "id": "pZfXPVvzgdCV"
      },
      "execution_count": null,
      "outputs": []
    },
    {
      "cell_type": "code",
      "source": [
        "predictions.to_csv('nto_3_cb_learn_1000.csv', index=False)"
      ],
      "metadata": {
        "id": "hd-vVWtIggZg"
      },
      "execution_count": null,
      "outputs": []
    },
    {
      "cell_type": "code",
      "source": [
        "df[df['id']==12000]"
      ],
      "metadata": {
        "id": "-mDrWqw_cz2E"
      },
      "execution_count": null,
      "outputs": []
    },
    {
      "cell_type": "code",
      "source": [
        "df.shape"
      ],
      "metadata": {
        "id": "r5lr4lbOcSYN"
      },
      "execution_count": null,
      "outputs": []
    },
    {
      "cell_type": "code",
      "source": [
        "pred.shape"
      ],
      "metadata": {
        "id": "IA1fhj2WYTcy"
      },
      "execution_count": null,
      "outputs": []
    },
    {
      "cell_type": "code",
      "source": [
        "!pip install catboost"
      ],
      "metadata": {
        "id": "f3bAC0SxPDvo"
      },
      "execution_count": null,
      "outputs": []
    },
    {
      "cell_type": "code",
      "source": [
        "from catboost import CatBoostClassifier"
      ],
      "metadata": {
        "id": "8J5dVxtwPHZM"
      },
      "execution_count": null,
      "outputs": []
    },
    {
      "cell_type": "code",
      "source": [
        "train_grouped = grouped.iloc[0:11000].reset_index(drop=True)  # Строки с 0 по 9999\n",
        "test_grouped = grouped.iloc[11000:12000].reset_index(drop=True)"
      ],
      "metadata": {
        "id": "ed4-tBMuPQ-e"
      },
      "execution_count": null,
      "outputs": []
    },
    {
      "cell_type": "code",
      "source": [
        "grouped.head()"
      ],
      "metadata": {
        "id": "L4GIbxywOPJP"
      },
      "execution_count": null,
      "outputs": []
    },
    {
      "cell_type": "code",
      "source": [
        "grouped.reset_index(inplace=True)"
      ],
      "metadata": {
        "id": "fuixyxXWOWg5"
      },
      "execution_count": null,
      "outputs": []
    },
    {
      "cell_type": "code",
      "source": [],
      "metadata": {
        "id": "K1nPoF6sOTc1"
      },
      "execution_count": null,
      "outputs": []
    },
    {
      "cell_type": "code",
      "source": [
        "grouped[grouped['id1']==10999]"
      ],
      "metadata": {
        "id": "tlwQL5qyNdit"
      },
      "execution_count": null,
      "outputs": []
    },
    {
      "cell_type": "code",
      "source": [
        "grouped.drop('sum', axis=1, inplace=True)"
      ],
      "metadata": {
        "id": "pLokF13QN1Vu"
      },
      "execution_count": null,
      "outputs": []
    },
    {
      "cell_type": "code",
      "source": [
        "predictions_df['class'] = pred"
      ],
      "metadata": {
        "id": "oR6E78rSDyD4"
      },
      "execution_count": null,
      "outputs": []
    },
    {
      "cell_type": "code",
      "source": [
        "predictions_df.head()"
      ],
      "metadata": {
        "id": "pL0WQlbREPLV"
      },
      "execution_count": null,
      "outputs": []
    },
    {
      "cell_type": "code",
      "source": [
        "predictions_df.to_csv('nto_3_cb_1.csv', index=False)"
      ],
      "metadata": {
        "id": "9BQ_WuU0EUGU"
      },
      "execution_count": null,
      "outputs": []
    },
    {
      "cell_type": "markdown",
      "source": [
        "**Ниже не лезть**"
      ],
      "metadata": {
        "id": "vN_FRrDV95AX"
      }
    },
    {
      "cell_type": "code",
      "source": [
        "count_votes = sim.groupby('id1')['vote_id2'].value_counts().unstack(fill_value=0)\n",
        "count_votes"
      ],
      "metadata": {
        "id": "0U6HVw3u6gCL"
      },
      "execution_count": null,
      "outputs": []
    },
    {
      "cell_type": "code",
      "source": [
        "aggregate = sim.groupby(['id1', 'vote_id2'])[['plus_minus', 'more_90', 'more_70', 'more_50', 'more_25', 'more_0',\n",
        "                                                'less_90', 'less_70', 'less_50', 'less_25', 'less_0']].sum().reset_index()"
      ],
      "metadata": {
        "id": "2pLBkjnSFkid"
      },
      "execution_count": null,
      "outputs": []
    },
    {
      "cell_type": "code",
      "source": [
        "aggregate"
      ],
      "metadata": {
        "id": "udrTlD0oDfKg"
      },
      "execution_count": null,
      "outputs": []
    },
    {
      "cell_type": "code",
      "source": [
        "aggregate = aggregate.pivot(index='id1', columns='vote_id2', values=list(aggregate.columns[2:]))\n",
        "aggregate.head()"
      ],
      "metadata": {
        "id": "ySOx--ANF5KK"
      },
      "execution_count": null,
      "outputs": []
    },
    {
      "cell_type": "code",
      "source": [
        "count_votes = sim.groupby('id1')['vote_id2'].value_counts().unstack(fill_value=0)"
      ],
      "metadata": {
        "id": "072WXlG5GHjR"
      },
      "execution_count": null,
      "outputs": []
    },
    {
      "cell_type": "code",
      "source": [
        "for column in ['plus_minus', 'more_90', 'more_70', 'more_50', 'more_25', 'more_0',\n",
        "               'less_90', 'less_70', 'less_50', 'less_25', 'less_0']:\n",
        "    # Проверяем, есть ли данные и считаем соотношение\n",
        "    if 'D' in aggregate and 'K' in aggregate:\n",
        "        aggregate[f\"{column}_D_ratio\"] = aggregate[column]['D'] / count_votes['D']\n",
        "        aggregate[f\"{column}_K_ratio\"] = aggregate[column]['K'] / count_votes['K']"
      ],
      "metadata": {
        "id": "9YAd5ZQ1GMKo"
      },
      "execution_count": null,
      "outputs": []
    },
    {
      "cell_type": "code",
      "source": [
        "aggregate.head()"
      ],
      "metadata": {
        "id": "WdMpUEMLGRNl"
      },
      "execution_count": null,
      "outputs": []
    },
    {
      "cell_type": "code",
      "source": [
        "total_counts = sim['id1'].value_counts()"
      ],
      "metadata": {
        "id": "mB1FYKMo_kUR"
      },
      "execution_count": null,
      "outputs": []
    },
    {
      "cell_type": "code",
      "source": [],
      "metadata": {
        "id": "mnKiPLcHDDvg"
      },
      "execution_count": null,
      "outputs": []
    },
    {
      "cell_type": "code",
      "source": [
        "for column in ['plus_minus', 'more_90', 'more_70', 'more_50', 'more_25', 'more_0',\n",
        "               'less_90', 'less_70', 'less_50', 'less_25', 'less_0']:\n",
        "    # Добавляем новые столбцы для K и D\n",
        "    sim[f\"{column}_K\"] = sim['id1'].map(lambda x: count_votes.loc[x, 'K'] / total_counts[x] if x in total_counts else 0)\n",
        "    sim[f\"{column}_D\"] = sim['id1'].map(lambda x: count_votes.loc[x, 'D'] / total_counts[x] if x in total_counts else 0)\n",
        "\n",
        "# Выведем результат\n",
        "print(sim.head())"
      ],
      "metadata": {
        "id": "GU6tzcR4_nuL"
      },
      "execution_count": null,
      "outputs": []
    },
    {
      "cell_type": "code",
      "source": [
        "sim[['less_90_K','less_25_K', 'less_70_K',  'less_0_K', 'less_50_K','more_90_K','more_25_K', 'more_70_K',  'more_0_K', 'more_50_K']]"
      ],
      "metadata": {
        "id": "m7PtAVekCCJj"
      },
      "execution_count": null,
      "outputs": []
    },
    {
      "cell_type": "code",
      "source": [
        "# sim['less_90'] = sim['sim'].apply(lambda x: 1 if x <= -0.9 else 0 )\n",
        "# sim['less_80'] = sim['sim'].apply(lambda x: 1 if x <= -0.9 else 0 )\n",
        "# sim['less_70'] = sim['sim'].apply(lambda x: 1 if x <= -0.9 else 0 )\n",
        "# sim['less_60'] = sim['sim'].apply(lambda x: 1 if x <= -0.9 else 0 )\n",
        "# sim['less_50'] = sim['sim'].apply(lambda x: 1 if x <= -0.9 else 0 )\n",
        "# sim['less_40'] = sim['sim'].apply(lambda x: 1 if x <= -0.9 else 0 )\n",
        "# sim['less_30'] = sim['sim'].apply(lambda x: 1 if x <= -0.9 else 0 )\n",
        "# sim['less_20'] = sim['sim'].apply(lambda x: 1 if x <= -0.9 else 0 )\n",
        "# sim['less_10'] = sim['sim'].apply(lambda x: 1 if x <= -0.9 else 0 )"
      ],
      "metadata": {
        "id": "WRdWCDwbvqk3"
      },
      "execution_count": null,
      "outputs": []
    },
    {
      "cell_type": "code",
      "source": [
        "sim.head()"
      ],
      "metadata": {
        "id": "9i0TgTJpuwK2"
      },
      "execution_count": null,
      "outputs": []
    },
    {
      "cell_type": "code",
      "source": [
        "sim.head()"
      ],
      "metadata": {
        "id": "eFK9mMg0mAsr"
      },
      "execution_count": null,
      "outputs": []
    },
    {
      "cell_type": "code",
      "source": [
        "df"
      ],
      "metadata": {
        "id": "LFcAIzXwbmia"
      },
      "execution_count": null,
      "outputs": []
    },
    {
      "cell_type": "code",
      "source": [
        "df['class'].value_counts()"
      ],
      "metadata": {
        "id": "7WwluK9Kbru6"
      },
      "execution_count": null,
      "outputs": []
    },
    {
      "cell_type": "code",
      "source": [],
      "metadata": {
        "id": "Wr8fcPS_buwT"
      },
      "execution_count": null,
      "outputs": []
    }
  ]
}