{
  "nbformat": 4,
  "nbformat_minor": 0,
  "metadata": {
    "colab": {
      "provenance": [],
      "mount_file_id": "1PbjRXqsnJayYwpu3P1-phgKAPyustDPy",
      "authorship_tag": "ABX9TyOY/DT8vXDhNohUfn6zR/rc",
      "include_colab_link": true
    },
    "kernelspec": {
      "name": "python3",
      "display_name": "Python 3"
    },
    "language_info": {
      "name": "python"
    }
  },
  "cells": [
    {
      "cell_type": "markdown",
      "metadata": {
        "id": "view-in-github",
        "colab_type": "text"
      },
      "source": [
        "<a href=\"https://colab.research.google.com/github/KartohaWhy/my_colab/blob/main/Copy_Comp_DS_Course_tasks.ipynb\" target=\"_parent\"><img src=\"https://colab.research.google.com/assets/colab-badge.svg\" alt=\"Open In Colab\"/></a>"
      ]
    },
    {
      "cell_type": "markdown",
      "source": [
        "**Задача прогнозирования времени и вида поломки машин**"
      ],
      "metadata": {
        "id": "i86pJBU-YDXC"
      }
    },
    {
      "cell_type": "code",
      "source": [
        "import pandas as pd"
      ],
      "metadata": {
        "id": "uV8xuE4ozndU"
      },
      "execution_count": null,
      "outputs": []
    },
    {
      "cell_type": "code",
      "execution_count": null,
      "metadata": {
        "id": "FrY9A_zgzb54"
      },
      "outputs": [],
      "source": [
        "url = 'https://raw.githubusercontent.com/a-milenkin/Competitive_Data_Science/main/data/car_train.csv'\n",
        "train = pd.read_csv(url)   # car_train - информация про машины с таргетом\n",
        "train.head()"
      ]
    },
    {
      "cell_type": "code",
      "source": [
        "url = 'https://drive.google.com/uc?id=1eqFIZCJTkXY-PsTeS-uz_DousIH3XQu-'\n",
        "rides_info = pd.read_csv(url) # rides_info - информация про поездки\n",
        "rides_info.head()"
      ],
      "metadata": {
        "id": "XsCoA9vNzjJc"
      },
      "execution_count": null,
      "outputs": []
    },
    {
      "cell_type": "code",
      "source": [
        "url = 'https://raw.githubusercontent.com/a-milenkin/Competitive_Data_Science/main/data/driver_info.csv'\n",
        "drivers = pd.read_csv(url)  # driver_info - информация про водителей\n",
        "drivers.head()"
      ],
      "metadata": {
        "id": "snZH0BGVz7qs"
      },
      "execution_count": null,
      "outputs": []
    },
    {
      "cell_type": "code",
      "source": [
        "url = 'https://raw.githubusercontent.com/a-milenkin/Competitive_Data_Science/main/data/fix_info.csv'\n",
        "fix_info = pd.read_csv(url)  # fix_info - информация про ремонт машин\n",
        "fix_info.head()"
      ],
      "metadata": {
        "id": "6HkWZ0bG0GAP"
      },
      "execution_count": null,
      "outputs": []
    },
    {
      "cell_type": "code",
      "source": [],
      "metadata": {
        "id": "OI4te45w_gXR"
      },
      "execution_count": null,
      "outputs": []
    },
    {
      "cell_type": "code",
      "source": [
        "drivers['age'].median()"
      ],
      "metadata": {
        "id": "ElA0EKUy_wkf"
      },
      "execution_count": null,
      "outputs": []
    },
    {
      "cell_type": "code",
      "source": [
        "drivers['sex'].value_counts()"
      ],
      "metadata": {
        "id": "3KV_x4hgHIy3"
      },
      "execution_count": null,
      "outputs": []
    },
    {
      "cell_type": "code",
      "source": [
        "import pandas as pd\n",
        "\n",
        "df1 = pd.read_csv('https://stepik.org/media/attachments/lesson/681964/2.2.6_df1.csv', index_col=0)\n",
        "df2 = pd.read_csv('https://stepik.org/media/attachments/lesson/681964/2.2.6_df2.csv', index_col=0)\n",
        "\n",
        "# Учтите, что user_white_list и car_black_list в тестовой системе будут иметь другую длину и другие значения\n",
        "user_white_list = ['g10995906g', 'H90312511Q', 'C27138482L', 'H22518078t', 'n17438464n', 'F10525768e', 's15596151o', 'i18954748S', 'E84048392U', 'E69893354s']\n",
        "car_black_list = ['l-4285389z', 'n79502261g', 'N-1839822D']\n",
        "\n",
        "# В ans содержится правильный ответ. Перед отправкой своего решения, сравнитесь с ним.\n",
        "ans = pd.read_csv('https://stepik.org/media/attachments/lesson/681964/2_2_6_ans.csv', index_col=0)"
      ],
      "metadata": {
        "id": "HH-UTcGAHbcF"
      },
      "execution_count": null,
      "outputs": []
    },
    {
      "cell_type": "code",
      "source": [
        "df = pd.concat([df1,df2])"
      ],
      "metadata": {
        "id": "dI2SG7QzUIOM"
      },
      "execution_count": null,
      "outputs": []
    },
    {
      "cell_type": "code",
      "source": [
        "\n",
        "\n",
        "df_loc = df.loc[(df.rating > 4) & (df.stop_times.isin([2,3,5]))]"
      ],
      "metadata": {
        "id": "6-__XgmOUeR5"
      },
      "execution_count": null,
      "outputs": []
    },
    {
      "cell_type": "code",
      "source": [
        "df_loc_2 = df_loc.loc[(df.user_id.isin(user_white_list)) & (~df.car_id.isin(car_black_list))]"
      ],
      "metadata": {
        "id": "6G8AYsVmWJDE"
      },
      "execution_count": null,
      "outputs": []
    },
    {
      "cell_type": "code",
      "source": [
        "df_loc_2"
      ],
      "metadata": {
        "id": "iWvoitbEXFB-"
      },
      "execution_count": null,
      "outputs": []
    },
    {
      "cell_type": "code",
      "source": [
        "result = df_loc_2.loc[df_loc_2.index % 2 == 0]"
      ],
      "metadata": {
        "id": "LQGKjwbkXQBC"
      },
      "execution_count": null,
      "outputs": []
    },
    {
      "cell_type": "code",
      "source": [
        "ans"
      ],
      "metadata": {
        "id": "z7CjFIypYl5D"
      },
      "execution_count": null,
      "outputs": []
    },
    {
      "cell_type": "code",
      "source": [
        "result"
      ],
      "metadata": {
        "id": "asRgcYy1YnGj"
      },
      "execution_count": null,
      "outputs": []
    },
    {
      "cell_type": "code",
      "source": [
        "drivers[(drivers['user_time_accident']>4.5) & (drivers['user_time_accident']<=9.0) & (drivers['age']<40)]"
      ],
      "metadata": {
        "id": "v2I3KNYxZHHr"
      },
      "execution_count": null,
      "outputs": []
    },
    {
      "cell_type": "code",
      "source": [
        "import pandas as pd\n",
        "\n",
        "df = pd.read_csv('https://stepik.org/media/attachments/lesson/681964/2_2_8.csv')\n",
        "\n",
        "# В ans содержится правильный ответ. Перед отправкой своего решения, сравнитесь с ним.\n",
        "ans = pd.read_csv('https://stepik.org/media/attachments/lesson/681964/2_2_8_ans.csv', index_col=0)"
      ],
      "metadata": {
        "id": "RD-GXxKRaMlI"
      },
      "execution_count": null,
      "outputs": []
    },
    {
      "cell_type": "code",
      "source": [
        "df['tripple_accident'] = df['user_time_accident'] * 3\n",
        "df.head()"
      ],
      "metadata": {
        "id": "FVWWQKnEaN2P"
      },
      "execution_count": null,
      "outputs": []
    },
    {
      "cell_type": "code",
      "source": [
        "df['rides_on_rating'] = df['user_rides'] / df['user_rating']\n",
        "df.head()"
      ],
      "metadata": {
        "id": "2kOqTZckaXia"
      },
      "execution_count": null,
      "outputs": []
    },
    {
      "cell_type": "code",
      "source": [
        "df_25 = df[df['user_time_accident'] > 25]"
      ],
      "metadata": {
        "id": "ULbceU_JafxC"
      },
      "execution_count": null,
      "outputs": []
    },
    {
      "cell_type": "code",
      "source": [
        "df = df_25[df_25.age > df_25.age.mean()]\n",
        "result"
      ],
      "metadata": {
        "id": "M2Y-dfT7asjV"
      },
      "execution_count": null,
      "outputs": []
    },
    {
      "cell_type": "code",
      "source": [
        "ans"
      ],
      "metadata": {
        "id": "8eZtikcHaqnO"
      },
      "execution_count": null,
      "outputs": []
    },
    {
      "cell_type": "code",
      "source": [
        "import pandas as pd\n",
        "\n",
        "df = pd.read_csv('https://stepik.org/media/attachments/lesson/681964/2_2_10.csv')\n",
        "\n",
        "# Учтите, что new_index, new_data, del_index_list, index в тестовой системе будут иметь другие значения\n",
        "new_index = 50\n",
        "new_data = ['new_car_id', 'new_worker_id', '2019-11-11 4:44','refuel_check', 3.5, 10]\n",
        "del_index_list = [41, 18, 33, 7, 46]\n",
        "index = 22\n",
        "\n",
        "\n",
        "# В ans содержится правильный ответ. Перед отправкой своего решения, сравнитесь с ним.\n",
        "ans = pd.read_csv('https://stepik.org/media/attachments/lesson/681964/2_2_10_ans.csv')"
      ],
      "metadata": {
        "id": "ySU9Fm_Xarrb"
      },
      "execution_count": null,
      "outputs": []
    },
    {
      "cell_type": "code",
      "source": [
        "df.loc[new_index] = new_data"
      ],
      "metadata": {
        "id": "ezJMM7KlcyjN"
      },
      "execution_count": null,
      "outputs": []
    },
    {
      "cell_type": "code",
      "source": [
        "df.tail()"
      ],
      "metadata": {
        "id": "21OgQEn4dhIf"
      },
      "execution_count": null,
      "outputs": []
    },
    {
      "cell_type": "code",
      "source": [
        "df = df[~df.index.isin(del_index_list)]"
      ],
      "metadata": {
        "id": "VLJAtV2sdh6u"
      },
      "execution_count": null,
      "outputs": []
    },
    {
      "cell_type": "code",
      "source": [
        "df"
      ],
      "metadata": {
        "id": "VxxkfBOBeZFQ"
      },
      "execution_count": null,
      "outputs": []
    },
    {
      "cell_type": "code",
      "source": [
        "df.loc[index,'destroy_degree'] = df.loc[index,'destroy_degree'] + 1"
      ],
      "metadata": {
        "id": "Wpe2fnCceLS-"
      },
      "execution_count": null,
      "outputs": []
    },
    {
      "cell_type": "code",
      "source": [
        "df.drop('fix_date',axis=1,inplace=True)"
      ],
      "metadata": {
        "id": "noVLgJizesmp"
      },
      "execution_count": null,
      "outputs": []
    },
    {
      "cell_type": "code",
      "source": [
        "df['efficient'] = df['destroy_degree'] / df['work_duration']"
      ],
      "metadata": {
        "id": "cYWDzVJ6fWA2"
      },
      "execution_count": null,
      "outputs": []
    },
    {
      "cell_type": "code",
      "source": [
        "df.head()"
      ],
      "metadata": {
        "id": "8V9w_YK4fnCR"
      },
      "execution_count": null,
      "outputs": []
    },
    {
      "cell_type": "code",
      "source": [
        "df['work_duration'] = df['work_duration'] ** 2"
      ],
      "metadata": {
        "id": "t0vrt4fDfn30"
      },
      "execution_count": null,
      "outputs": []
    },
    {
      "cell_type": "code",
      "source": [
        "df.rename(columns={'work_duration': 'work_duration_square'},inplace=True)"
      ],
      "metadata": {
        "id": "PrQCQYVgfxm_"
      },
      "execution_count": null,
      "outputs": []
    },
    {
      "cell_type": "code",
      "source": [
        "df.shape"
      ],
      "metadata": {
        "id": "OBi1OZbhgLir"
      },
      "execution_count": null,
      "outputs": []
    },
    {
      "cell_type": "code",
      "source": [
        "df = df.drop_duplicates(subset=['car_id'])"
      ],
      "metadata": {
        "id": "b6ePEO_5gDjX"
      },
      "execution_count": null,
      "outputs": []
    },
    {
      "cell_type": "code",
      "source": [
        "df.head()"
      ],
      "metadata": {
        "id": "AnKpQmwKgNgu"
      },
      "execution_count": null,
      "outputs": []
    },
    {
      "cell_type": "code",
      "source": [
        "ans.shape"
      ],
      "metadata": {
        "id": "jyolZEhbgaLL"
      },
      "execution_count": null,
      "outputs": []
    },
    {
      "cell_type": "code",
      "source": [
        "import pandas as pd\n",
        "\n",
        "df = pd.read_csv('https://stepik.org/media/attachments/lesson/681964/2.2.11.csv')\n",
        "\n",
        "# Учтите, что sort_by_list, cols2drop, columns_order_list в тестовой системе будут иметь другие значения.\n",
        "sort_by_list = ['car_rating', 'riders']\n",
        "cols2drop = ['random_name_1', 'target_reg', 'target_class', 'random_name_2']\n",
        "columns_order_list = ['model', 'car_type', 'car_id', 'car_rating', 'year_to_start', 'year_to_work', 'riders', 'fuel_type']\n",
        "critical_car_rating = 2\n",
        "\n",
        "# В ans содержится правильный ответ. Перед отправкой своего решения, сравнитесь с ним.\n",
        "ans = pd.read_csv('https://stepik.org/media/attachments/lesson/681964/2_2_11_ans.csv', index_col=0)"
      ],
      "metadata": {
        "id": "BX9Rcr8ZgbWY"
      },
      "execution_count": null,
      "outputs": []
    },
    {
      "cell_type": "code",
      "source": [
        "df"
      ],
      "metadata": {
        "id": "g21CsPvsrv6N"
      },
      "execution_count": null,
      "outputs": []
    },
    {
      "cell_type": "code",
      "source": [
        "df = df.sort_values(by=sort_by_list[0],ascending=False)\n",
        "df = df.sort_values(by=sort_by_list[1])\n",
        "\n",
        "for i in cols2drop:\n",
        "    if i in df.columns:\n",
        "        df.drop(i, axis=1, inplace=True)"
      ],
      "metadata": {
        "id": "wdi6qAQDoQUo"
      },
      "execution_count": null,
      "outputs": []
    },
    {
      "cell_type": "code",
      "source": [
        "df.head()"
      ],
      "metadata": {
        "id": "670UbIhUpbIC"
      },
      "execution_count": null,
      "outputs": []
    },
    {
      "cell_type": "code",
      "source": [
        "df = df.reindex(columns=columns_order_list)"
      ],
      "metadata": {
        "id": "KqiluOn4puHe"
      },
      "execution_count": null,
      "outputs": []
    },
    {
      "cell_type": "code",
      "source": [
        "df.head()"
      ],
      "metadata": {
        "id": "U872RWwdr2v-"
      },
      "execution_count": null,
      "outputs": []
    },
    {
      "cell_type": "code",
      "source": [
        "df.drop(df.index[df['car_rating'] < critical_car_rating],inplace=True)"
      ],
      "metadata": {
        "id": "uplT9ozgqBEm"
      },
      "execution_count": null,
      "outputs": []
    },
    {
      "cell_type": "code",
      "source": [
        "df.drop(df.index[(df['riders'] > 10000) | (df['car_type']=='standart') | (df['car_type']=='economy')],inplace=True)"
      ],
      "metadata": {
        "id": "eWspZYgnrE0i"
      },
      "execution_count": null,
      "outputs": []
    },
    {
      "cell_type": "code",
      "source": [
        "df"
      ],
      "metadata": {
        "id": "13zJ2qawrnPw"
      },
      "execution_count": null,
      "outputs": []
    },
    {
      "cell_type": "code",
      "source": [
        "ans"
      ],
      "metadata": {
        "id": "BbOQ3Bd5roDS"
      },
      "execution_count": null,
      "outputs": []
    },
    {
      "cell_type": "code",
      "source": [
        "import pandas as pd\n",
        "\n",
        "df = pd.read_csv('https://stepik.org/media/attachments/lesson/681964/2_2_12.csv')\n",
        "\n",
        "# В ans содержится правильный ответ. Перед отправкой своего решения, сравнитесь с ним.\n",
        "ans = pd.read_csv('https://stepik.org/media/attachments/lesson/681964/2_2_12_ans.csv')"
      ],
      "metadata": {
        "id": "MskWyMdbrovb"
      },
      "execution_count": null,
      "outputs": []
    },
    {
      "cell_type": "code",
      "source": [
        "df.head()"
      ],
      "metadata": {
        "id": "VxFBlWzWs3J6"
      },
      "execution_count": null,
      "outputs": []
    },
    {
      "cell_type": "code",
      "source": [
        "mean_rating = df['car_rating'].mean()"
      ],
      "metadata": {
        "id": "dbKDPjQMsmmp"
      },
      "execution_count": null,
      "outputs": []
    },
    {
      "cell_type": "code",
      "source": [
        "df['car_rating']+=1"
      ],
      "metadata": {
        "id": "l98F4yUgszao"
      },
      "execution_count": null,
      "outputs": []
    },
    {
      "cell_type": "code",
      "source": [
        "df.head()"
      ],
      "metadata": {
        "id": "G3rEfAnRs7Nf"
      },
      "execution_count": null,
      "outputs": []
    },
    {
      "cell_type": "code",
      "source": [
        "df['year_to_work']+=1"
      ],
      "metadata": {
        "id": "vcB_HVG6s-kQ"
      },
      "execution_count": null,
      "outputs": []
    },
    {
      "cell_type": "code",
      "source": [
        "df = df[df['car_rating']>mean_rating]"
      ],
      "metadata": {
        "id": "Jpurkd7ltIER"
      },
      "execution_count": null,
      "outputs": []
    },
    {
      "cell_type": "code",
      "source": [
        "df['year_to_work'] = df['year_to_work'].apply(lambda x: x+2 if x < 2017 else x // 5)"
      ],
      "metadata": {
        "id": "iBknZ2HbtRxS"
      },
      "execution_count": null,
      "outputs": []
    },
    {
      "cell_type": "code",
      "source": [
        "df.rename(columns={'year_to_start':'new_year_to_start'},inplace=True)"
      ],
      "metadata": {
        "id": "rdOD_lj7thV4"
      },
      "execution_count": null,
      "outputs": []
    },
    {
      "cell_type": "code",
      "source": [
        "df.drop('fuel_type',axis=1,inplace=True)"
      ],
      "metadata": {
        "id": "GkkVQJTxtrAp"
      },
      "execution_count": null,
      "outputs": []
    },
    {
      "cell_type": "code",
      "source": [
        "df['car_type'] = df['car_type'].apply(lambda x: 'super_'+x)"
      ],
      "metadata": {
        "id": "yAFjvKlqtt4E"
      },
      "execution_count": null,
      "outputs": []
    },
    {
      "cell_type": "code",
      "source": [
        "result = df"
      ],
      "metadata": {
        "id": "boj1iEzFuCyZ"
      },
      "execution_count": null,
      "outputs": []
    },
    {
      "cell_type": "code",
      "source": [
        "result"
      ],
      "metadata": {
        "id": "khvOw7KJuEu4"
      },
      "execution_count": null,
      "outputs": []
    },
    {
      "cell_type": "code",
      "source": [
        "ans"
      ],
      "metadata": {
        "id": "3iDysno6uFXn"
      },
      "execution_count": null,
      "outputs": []
    },
    {
      "cell_type": "code",
      "source": [
        "import pandas as pd\n",
        "\n",
        "df = pd.read_csv('https://stepik.org/media/attachments/lesson/681964/2_2_13.csv')\n",
        "\n",
        "# Учтите, что cols2drop в тестовой системе будет иметь другие значения.\n",
        "cols2drop = ['ride_cost', 'stop_times', 'user_ride_quality']\n",
        "\n",
        "# В ans содержится правильный ответ. Перед отправкой своего решения, сравнитесь с ним.\n",
        "ans = pd.read_csv('https://stepik.org/media/attachments/lesson/681964/2_2_13_ans.csv', index_col=0)"
      ],
      "metadata": {
        "id": "pbHLaSp2uGeu"
      },
      "execution_count": null,
      "outputs": []
    },
    {
      "cell_type": "code",
      "source": [
        "df['flag'] = 'good_line'"
      ],
      "metadata": {
        "id": "SDIEkfR2vTDi"
      },
      "execution_count": null,
      "outputs": []
    },
    {
      "cell_type": "code",
      "source": [
        "df.head()"
      ],
      "metadata": {
        "id": "tr1J9fRgve__"
      },
      "execution_count": null,
      "outputs": []
    },
    {
      "cell_type": "code",
      "source": [
        "def flag():\n",
        "    if ((df['rating'] > 5) & (df['speed_max'] < 100)):\n",
        "        return 'good_line'\n",
        "    elif ((df['rating'] > 5) & (df['speed_max'] > 100)):\n",
        "        return 'bad_line'\n",
        "    else:\n",
        "        return 'undefined'"
      ],
      "metadata": {
        "id": "4BBbVbgYxOtJ"
      },
      "execution_count": null,
      "outputs": []
    },
    {
      "cell_type": "code",
      "source": [
        "df['flag'] = df.apply(lambda x : 'good_line' if (x.rating > 5) and (x.speed_max < 100) else 'bad_line' if  (x.rating > 5) and (x.speed_max > 100) else 'undefined', axis=1)"
      ],
      "metadata": {
        "id": "DLD9rwbRvfvb"
      },
      "execution_count": null,
      "outputs": []
    },
    {
      "cell_type": "code",
      "source": [
        "df['speed_check'] = df.apply(lambda x: 'avg_more' if (x.distance / x.ride_duration) > x.speed_avg else 'avg_less', axis=1)"
      ],
      "metadata": {
        "id": "88WxDO0jx37J"
      },
      "execution_count": null,
      "outputs": []
    },
    {
      "cell_type": "code",
      "source": [
        "df.drop(cols2drop,axis=1,inplace=True)"
      ],
      "metadata": {
        "id": "0VYKRkQszrmV"
      },
      "execution_count": null,
      "outputs": []
    },
    {
      "cell_type": "code",
      "source": [
        "df['car_id'] = df['car_id'].dropna()"
      ],
      "metadata": {
        "id": "jmQGAbRe0D_r"
      },
      "execution_count": null,
      "outputs": []
    },
    {
      "cell_type": "code",
      "source": [
        "df = df.drop(df.loc[df['car_id'].isna()].index)"
      ],
      "metadata": {
        "id": "o2gz7i0a1FYf"
      },
      "execution_count": null,
      "outputs": []
    },
    {
      "cell_type": "code",
      "source": [
        "result = df\n",
        "result"
      ],
      "metadata": {
        "id": "XxBlb3Ll0ZR6"
      },
      "execution_count": null,
      "outputs": []
    },
    {
      "cell_type": "code",
      "source": [
        "ans"
      ],
      "metadata": {
        "id": "Op2CXeGy0b5n"
      },
      "execution_count": null,
      "outputs": []
    },
    {
      "cell_type": "code",
      "source": [
        "import pandas as pd\n",
        "\n",
        "df = pd.read_csv('https://stepik.org/media/attachments/lesson/681964/2_2_14.csv')\n",
        "\n",
        "# В ans содержится правильный ответ. Перед отправкой своего решения, сравнитесь с ним.\n",
        "ans = pd.read_csv('https://stepik.org/media/attachments/lesson/681964/2_2_14_ans.csv', index_col=0)"
      ],
      "metadata": {
        "id": "fsLxky-a0csK"
      },
      "execution_count": null,
      "outputs": []
    },
    {
      "cell_type": "code",
      "source": [
        "df['nans_num'] = df.isna().sum(axis=1)"
      ],
      "metadata": {
        "id": "Znwg86CJ12X9"
      },
      "execution_count": null,
      "outputs": []
    },
    {
      "cell_type": "code",
      "source": [
        "df.drop(df.loc[df['nans_num'] > 2].index,inplace=True)"
      ],
      "metadata": {
        "id": "ps95ZBOc2Ps9"
      },
      "execution_count": null,
      "outputs": []
    },
    {
      "cell_type": "code",
      "source": [
        "df.drop(df.loc[df['age'].isna()].index,inplace=True)"
      ],
      "metadata": {
        "id": "gTmVPP3h2ei9"
      },
      "execution_count": null,
      "outputs": []
    },
    {
      "cell_type": "code",
      "source": [
        "median_value = df['user_time_accident'].median()\n",
        "df['user_time_accident'] = df['user_time_accident'].fillna(median_value)\n"
      ],
      "metadata": {
        "id": "l7MDW4VU28WP"
      },
      "execution_count": null,
      "outputs": []
    },
    {
      "cell_type": "code",
      "source": [
        "df.head()"
      ],
      "metadata": {
        "id": "YtHocwQq3YsF"
      },
      "execution_count": null,
      "outputs": []
    },
    {
      "cell_type": "code",
      "source": [
        "df.drop(['user_rating','user_id','sex','first_ride_date','nans_num'],axis=1,inplace=True)"
      ],
      "metadata": {
        "id": "AvHkUNT33cAl"
      },
      "execution_count": null,
      "outputs": []
    },
    {
      "cell_type": "code",
      "source": [
        "df"
      ],
      "metadata": {
        "id": "BFvdGmX_3q0D"
      },
      "execution_count": null,
      "outputs": []
    },
    {
      "cell_type": "code",
      "source": [
        "ans"
      ],
      "metadata": {
        "id": "5kx2CZwC3rey"
      },
      "execution_count": null,
      "outputs": []
    },
    {
      "cell_type": "code",
      "source": [
        "result = df"
      ],
      "metadata": {
        "id": "wEy1croE3son"
      },
      "execution_count": null,
      "outputs": []
    },
    {
      "cell_type": "code",
      "source": [
        "import pandas as pd\n",
        "import seaborn as sns"
      ],
      "metadata": {
        "id": "SdFSE-2FMuor"
      },
      "execution_count": null,
      "outputs": []
    },
    {
      "cell_type": "code",
      "source": [
        "path = 'https://raw.githubusercontent.com/a-milenkin/Competitive_Data_Science/main/data/car_train.csv'\n",
        "df = pd.read_csv(path)\n",
        "df.head()"
      ],
      "metadata": {
        "id": "NvxDVZVq3uG-"
      },
      "execution_count": null,
      "outputs": []
    },
    {
      "cell_type": "code",
      "source": [
        "df['car_type'].value_counts()"
      ],
      "metadata": {
        "id": "9o6THEJEQ7-Y"
      },
      "execution_count": null,
      "outputs": []
    },
    {
      "cell_type": "code",
      "source": [
        "pd.crosstab(\n",
        "    df[\"target_class\"],\n",
        "    df[\"car_type\"],\n",
        "    # margins = True,\n",
        "    normalize = True\n",
        ").style.background_gradient(cmap=\"RdYlGn\")"
      ],
      "metadata": {
        "id": "UCeyOFatMwss"
      },
      "execution_count": null,
      "outputs": []
    },
    {
      "cell_type": "code",
      "source": [
        "df['target_class'].value_counts()\n"
      ],
      "metadata": {
        "id": "T_JrM1BNQXmM"
      },
      "execution_count": null,
      "outputs": []
    },
    {
      "cell_type": "code",
      "source": [
        "df_new = df[df['target_class']=='wheel_shake']"
      ],
      "metadata": {
        "id": "WCfvv4sKP7kj"
      },
      "execution_count": null,
      "outputs": []
    },
    {
      "cell_type": "code",
      "source": [
        "df_new['car_type'].value_counts()\n"
      ],
      "metadata": {
        "id": "KZRUwghAQeZZ"
      },
      "execution_count": null,
      "outputs": []
    },
    {
      "cell_type": "code",
      "source": [
        "sns.displot(\n",
        "    data=df,\n",
        "\n",
        "    x=\"car_type\",\n",
        "    # y=\"user_time_accident\",\n",
        "\n",
        "    hue=\"target_class\",\n",
        "    legend=True,\n",
        "    aspect=4,\n",
        "    kind=\"hist\",  # kde\n",
        "    alpha=0.5,\n",
        ");"
      ],
      "metadata": {
        "id": "0matZ4BrOCed"
      },
      "execution_count": null,
      "outputs": []
    },
    {
      "cell_type": "code",
      "source": [
        "sns.displot(\n",
        "    data=df,\n",
        "\n",
        "    x=\"model\",\n",
        "    # y=\"user_time_accident\",\n",
        "\n",
        "    hue=\"target_class\",\n",
        "    legend=True,\n",
        "    aspect=4,\n",
        "    kind=\"hist\",  # kde\n",
        "    alpha=0.5,\n",
        ");"
      ],
      "metadata": {
        "id": "4TDftYEAOT3D"
      },
      "execution_count": null,
      "outputs": []
    },
    {
      "cell_type": "code",
      "source": [
        "import pandas as pd"
      ],
      "metadata": {
        "id": "4uGUc3GzPwBp"
      },
      "execution_count": null,
      "outputs": []
    },
    {
      "cell_type": "code",
      "source": [
        "df = pd.read_csv('/content/stratified_valid.csv')"
      ],
      "metadata": {
        "id": "w7Qzj39DPyoc"
      },
      "execution_count": null,
      "outputs": []
    },
    {
      "cell_type": "code",
      "source": [
        "df.head()"
      ],
      "metadata": {
        "id": "WlAmJknWP5Ws"
      },
      "execution_count": null,
      "outputs": []
    },
    {
      "cell_type": "code",
      "source": [
        "df.shape"
      ],
      "metadata": {
        "id": "GjTU9a0YP581"
      },
      "execution_count": null,
      "outputs": []
    },
    {
      "cell_type": "code",
      "source": [
        "from sklearn.model_selection import StratifiedKFold\n",
        "\n",
        "# Число групп, на которые поделим диапазон значений таргета\n",
        "N = 10\n",
        "\n",
        "# StratifiedKFold умеет работать только с дискретными/целыми значениями.\n",
        "# Поэтому делим таргет на N групп\n",
        "df['target_reg_group'] = pd.qcut(df['target_reg'], N, labels = [f'group_{i}' for i in range(N)])\n",
        "\n",
        "# Теперь можно применить StratifiedKFold\n",
        "skf = StratifiedKFold(n_splits=N, shuffle = True)\n",
        "y = df['target_reg_group']\n",
        "df['num_fold'] = None\n"
      ],
      "metadata": {
        "id": "JtLoAYewP93i"
      },
      "execution_count": null,
      "outputs": []
    },
    {
      "cell_type": "code",
      "source": [
        "for i, (train_index, test_index) in enumerate(skf.split(df, df['target_reg_group'])):\n",
        "    df.loc[test_index, 'num_fold'] = i  # Присваиваем номер фолда для тестовой части\n",
        "\n",
        "# Проверяем распределение средних значений таргета между фолдами\n",
        "mean_values = df.groupby('num_fold')['target_reg'].mean()\n",
        "print(mean_values)"
      ],
      "metadata": {
        "id": "Jp6o4U2qQ4fq"
      },
      "execution_count": null,
      "outputs": []
    },
    {
      "cell_type": "code",
      "source": [
        "import seaborn as sns\n",
        "\n",
        "tmp = df.groupby('num_fold', as_index=False)['target_reg'].agg('mean')\n",
        "sns.catplot(data = tmp, x = 'num_fold', y = 'target_reg', aspect=2, kind=\"bar\");"
      ],
      "metadata": {
        "id": "toAdIei1SMdT"
      },
      "execution_count": null,
      "outputs": []
    },
    {
      "cell_type": "code",
      "source": [
        "df.head()"
      ],
      "metadata": {
        "id": "a99B8iYESjEU"
      },
      "execution_count": null,
      "outputs": []
    },
    {
      "cell_type": "code",
      "source": [
        "df.drop('target_reg_group', axis=1, inplace=True)"
      ],
      "metadata": {
        "id": "SHksuaN1TOGa"
      },
      "execution_count": null,
      "outputs": []
    },
    {
      "cell_type": "code",
      "source": [
        "df.to_csv('stratified_valid_ans_2.csv', index=False)"
      ],
      "metadata": {
        "id": "oOGgILKUSj23"
      },
      "execution_count": null,
      "outputs": []
    },
    {
      "cell_type": "code",
      "source": [
        "import pandas as pd\n",
        "\n",
        "sample_submission = pd.read_csv('https://stepik.org/media/attachments/lesson/779913/sample_submission.csv')"
      ],
      "metadata": {
        "id": "4b6n1t1XTJ6T"
      },
      "execution_count": null,
      "outputs": []
    },
    {
      "cell_type": "code",
      "source": [
        "sample_submission"
      ],
      "metadata": {
        "id": "fqpMh7gkTK8O"
      },
      "execution_count": null,
      "outputs": []
    },
    {
      "cell_type": "code",
      "source": [
        "import pandas as pd"
      ],
      "metadata": {
        "id": "Gbw025GcES1X"
      },
      "execution_count": null,
      "outputs": []
    },
    {
      "cell_type": "code",
      "source": [
        "df = pd.read_csv('/content/multi_label.csv')"
      ],
      "metadata": {
        "id": "s9RPavqqEU4I"
      },
      "execution_count": null,
      "outputs": []
    },
    {
      "cell_type": "code",
      "source": [
        "!pip install iterative-stratification"
      ],
      "metadata": {
        "id": "mVoMttmtEk9z"
      },
      "execution_count": null,
      "outputs": []
    },
    {
      "cell_type": "code",
      "source": [
        "df.head()"
      ],
      "metadata": {
        "id": "5Oq6OOK8FfLd"
      },
      "execution_count": null,
      "outputs": []
    },
    {
      "cell_type": "code",
      "source": [
        "from iterstrat.ml_stratifiers import MultilabelStratifiedKFold"
      ],
      "metadata": {
        "id": "aw3xHZNpEmV2"
      },
      "execution_count": null,
      "outputs": []
    },
    {
      "cell_type": "code",
      "source": [
        "mskf = MultilabelStratifiedKFold(n_splits=5, shuffle=True, random_state=0)\n",
        "df['kfold'] = None\n",
        "for train_index, test_index in mskf.split(X, y):\n",
        "   print(\"TRAIN:\", train_index, \"TEST:\", test_index)\n",
        "   X_train, X_test = X[train_index], X[test_index]\n",
        "   y_train, y_test = y[train_index], y[test_index]"
      ],
      "metadata": {
        "id": "fFCPtvSPEqYN"
      },
      "execution_count": null,
      "outputs": []
    },
    {
      "cell_type": "code",
      "source": [
        "X = df.drop('target_column', axis=1).values  # замените 'target_column' на вашу целевую переменную\n",
        "y = df['target_column'].values  # целевая переменная в формате списка/массива\n",
        "\n",
        "# Инициализация MultilabelStratifiedKFold\n",
        "mskf = MultilabelStratifiedKFold(n_splits=5, shuffle=True, random_state=0)\n",
        "\n",
        "# Добавление нового столбца для фолдов\n",
        "df['kfold'] = -1\n",
        "\n",
        "# Генерация фолдов\n",
        "for fold, (train_index, test_index) in enumerate(mskf.split(X, y)):\n",
        "    df.loc[test_index, 'kfold'] = fold\n",
        "\n",
        "# Проверка результата\n",
        "print(df['kfold'].value_counts())"
      ],
      "metadata": {
        "id": "OYyYL9hlFGCP"
      },
      "execution_count": null,
      "outputs": []
    },
    {
      "cell_type": "code",
      "source": [
        "mskf = MultilabelStratifiedKFold(n_splits=5, shuffle=True, random_state=0)\n",
        "df['kfold'] = None\n",
        "y = df.drop(['ID', 'kfold'], axis=1)\n",
        "for fold, (train_index, test_index) in enumerate(mskf.split(df, y)):\n",
        "    df.loc[test_index, 'kfold'] = fold"
      ],
      "metadata": {
        "id": "HCG_3hs1EuWb"
      },
      "execution_count": null,
      "outputs": []
    },
    {
      "cell_type": "code",
      "source": [
        "df.head()"
      ],
      "metadata": {
        "id": "XLcdmcdoG7E0"
      },
      "execution_count": null,
      "outputs": []
    },
    {
      "cell_type": "code",
      "source": [
        "df.to_csv('mskf_ans.csv', index=False)"
      ],
      "metadata": {
        "id": "NEQLaNyQG7s1"
      },
      "execution_count": null,
      "outputs": []
    },
    {
      "cell_type": "code",
      "source": [
        "import pandas as pd\n",
        "\n",
        "url = 'https://drive.google.com/uc?id=1eqFIZCJTkXY-PsTeS-uz_DousIH3XQu-'\n",
        "rides = pd.read_csv(url) # Открываем rides_info - информация про поездки\n",
        "rides.sample(5)"
      ],
      "metadata": {
        "id": "BTkWOAfHHmOa"
      },
      "execution_count": null,
      "outputs": []
    },
    {
      "cell_type": "code",
      "source": [
        "import pandas as pd\n",
        "\n",
        "df = pd.read_csv('https://stepik.org/media/attachments/lesson/779916/3_1_2.csv')"
      ],
      "metadata": {
        "id": "P-JR1yDdIAao"
      },
      "execution_count": null,
      "outputs": []
    },
    {
      "cell_type": "code",
      "source": [
        "df.head()"
      ],
      "metadata": {
        "id": "X2-j2RVnINTU"
      },
      "execution_count": null,
      "outputs": []
    },
    {
      "cell_type": "code",
      "source": [
        "df['final_ride_cost'] = df.apply(lambda x: x.ride_cost * 0.95 if (x.rating > 6) & (x.speed_max < 120)  else x.ride_cost*1.05, axis=1)"
      ],
      "metadata": {
        "id": "MPAPrwtSIOAX"
      },
      "execution_count": null,
      "outputs": []
    },
    {
      "cell_type": "code",
      "source": [
        "df.head()"
      ],
      "metadata": {
        "id": "DbKVn1uMJK24"
      },
      "execution_count": null,
      "outputs": []
    },
    {
      "cell_type": "code",
      "source": [
        "import numpy as np"
      ],
      "metadata": {
        "id": "TL4q5Dx-KQTS"
      },
      "execution_count": null,
      "outputs": []
    },
    {
      "cell_type": "code",
      "source": [
        "df['final_ride_cost'] = df['final_ride_cost'].apply(np.floor).astype(int)"
      ],
      "metadata": {
        "id": "S8aBThffJLsS"
      },
      "execution_count": null,
      "outputs": []
    },
    {
      "cell_type": "code",
      "source": [
        "print(df['final_ride_cost'].equals(df['true_final_ride_cost']))"
      ],
      "metadata": {
        "id": "7sMoGddMKekS"
      },
      "execution_count": null,
      "outputs": []
    },
    {
      "cell_type": "code",
      "source": [
        "import pandas as pd\n",
        "\n",
        "df = pd.read_csv('https://stepik.org/media/attachments/lesson/779916/3_1_3.csv')"
      ],
      "metadata": {
        "id": "eH7xnyWWMirq"
      },
      "execution_count": null,
      "outputs": []
    },
    {
      "cell_type": "code",
      "source": [
        "df.head()"
      ],
      "metadata": {
        "id": "xvmTdWdKMjmy"
      },
      "execution_count": null,
      "outputs": []
    },
    {
      "cell_type": "code",
      "source": [
        "f_3 = lambda x: min(x) / max(x)\n",
        "f_4 = lambda x: x.mode()\n",
        "f_5 = lambda x: x.std()\n",
        "f_1 = lambda x: x.unique().size\n",
        "f_2 = lambda x: x.nlargest(2).iloc[-1]\n",
        "rides_gr = df.groupby(\"car_id\", as_index=False).agg(feature_1 =(\"stop_times\", f_1),\n",
        "                                                         feature_2 =(\"speed_max\", f_2),\n",
        "                                                         feature_3 =(\"rating\", f_3),\n",
        "                                                         feature_4 =(\"stop_times\", f_4),\n",
        "                                                         feature_5 =(\"ride_cost\", f_5))\n",
        "rides_gr.head()"
      ],
      "metadata": {
        "id": "5PtcpAlMMnqK"
      },
      "execution_count": null,
      "outputs": []
    },
    {
      "cell_type": "code",
      "source": [
        "result = rides_gr"
      ],
      "metadata": {
        "id": "ODt3tBLfPV2H"
      },
      "execution_count": null,
      "outputs": []
    },
    {
      "cell_type": "code",
      "source": [
        "ans = pd.read_csv('https://stepik.org/media/attachments/lesson/779916/3_1_3_ans.csv')"
      ],
      "metadata": {
        "id": "F8pUoQFDPRPA"
      },
      "execution_count": null,
      "outputs": []
    },
    {
      "cell_type": "code",
      "source": [
        "ans.head()"
      ],
      "metadata": {
        "id": "4T97F3wQPNbJ"
      },
      "execution_count": null,
      "outputs": []
    },
    {
      "cell_type": "code",
      "source": [
        "import pandas as pd\n",
        "\n",
        "rides = pd.read_csv('https://stepik.org/media/attachments/lesson/779916/3_1_4_rides.csv')\n",
        "cars = pd.read_csv('https://stepik.org/media/attachments/lesson/779916/3_1_4_cars.csv')\n",
        "\n",
        "# В переменную ans записан правильный ответ, с которым можно сверить свое решение.\n",
        "ans = pd.read_csv('https://stepik.org/media/attachments/lesson/779916/3_1_4_ans.csv')"
      ],
      "metadata": {
        "id": "xs7sA35lPOQG"
      },
      "execution_count": null,
      "outputs": []
    },
    {
      "cell_type": "code",
      "source": [
        "rides.head()"
      ],
      "metadata": {
        "id": "o6s3DMEARout"
      },
      "execution_count": null,
      "outputs": []
    },
    {
      "cell_type": "code",
      "source": [
        "cars.head()"
      ],
      "metadata": {
        "id": "JBYt_XURRqn5"
      },
      "execution_count": null,
      "outputs": []
    },
    {
      "cell_type": "code",
      "source": [
        "rides_cars = rides.merge(cars, on = 'car_id', how = 'left')"
      ],
      "metadata": {
        "id": "LQLw_vF6Ra0B"
      },
      "execution_count": null,
      "outputs": []
    },
    {
      "cell_type": "code",
      "source": [
        "rides_cars.head()"
      ],
      "metadata": {
        "id": "hoaS6xIKRxIU"
      },
      "execution_count": null,
      "outputs": []
    },
    {
      "cell_type": "code",
      "source": [
        "rides_cars.drop(['model','riders'],axis=1,inplace=True)"
      ],
      "metadata": {
        "id": "vqlymqjbRyPg"
      },
      "execution_count": null,
      "outputs": []
    },
    {
      "cell_type": "code",
      "source": [
        "rides_cars = rides_cars.drop(rides_cars.loc[rides_cars['target_class'].isna()].index)"
      ],
      "metadata": {
        "id": "FrxKI232SHBf"
      },
      "execution_count": null,
      "outputs": []
    },
    {
      "cell_type": "code",
      "source": [
        "result = rides_cars"
      ],
      "metadata": {
        "id": "PJVugvjpSk1E"
      },
      "execution_count": null,
      "outputs": []
    },
    {
      "cell_type": "code",
      "source": [
        "result.head()"
      ],
      "metadata": {
        "id": "9WiYatAqSoJT"
      },
      "execution_count": null,
      "outputs": []
    },
    {
      "cell_type": "code",
      "source": [
        "ans.head()"
      ],
      "metadata": {
        "id": "fZic9_EDSpGg"
      },
      "execution_count": null,
      "outputs": []
    },
    {
      "cell_type": "code",
      "source": [
        "import pandas as pd\n",
        "\n",
        "rides = pd.read_csv('https://stepik.org/media/attachments/lesson/779916/3_1_5.csv')"
      ],
      "metadata": {
        "id": "cu8BMyt6SqNx"
      },
      "execution_count": null,
      "outputs": []
    },
    {
      "cell_type": "code",
      "source": [
        "rides.head()"
      ],
      "metadata": {
        "id": "X9EiDBo4ZduJ"
      },
      "execution_count": null,
      "outputs": []
    },
    {
      "cell_type": "code",
      "source": [
        "rides['car_ride_count'] = rides.groupby('car_id', as_index=False)['ride_id'].transform('count')"
      ],
      "metadata": {
        "id": "e-PWegl4Yt5L"
      },
      "execution_count": null,
      "outputs": []
    },
    {
      "cell_type": "code",
      "source": [
        "rides['user_rating_max'] = rides.groupby('user_id', as_index=False)['rating'].transform('max')"
      ],
      "metadata": {
        "id": "KvkWfCjyZ1IG"
      },
      "execution_count": null,
      "outputs": []
    },
    {
      "cell_type": "code",
      "source": [
        "rides['user_ride_cost_mean'] = rides.groupby('user_id', as_index=False)['ride_cost'].transform('mean')"
      ],
      "metadata": {
        "id": "tg9Igx7laDaB"
      },
      "execution_count": null,
      "outputs": []
    },
    {
      "cell_type": "code",
      "source": [
        "result = rides"
      ],
      "metadata": {
        "id": "k13j4Z0qaMV9"
      },
      "execution_count": null,
      "outputs": []
    },
    {
      "cell_type": "code",
      "source": [
        "rides.head()"
      ],
      "metadata": {
        "id": "YyE_cQIVZi2t"
      },
      "execution_count": null,
      "outputs": []
    },
    {
      "cell_type": "code",
      "source": [
        "import pandas as pd\n",
        "\n",
        "rides = pd.read_csv('https://stepik.org/media/attachments/lesson/779916/3_1_6.csv')"
      ],
      "metadata": {
        "id": "Pz6iC-OxcDXu"
      },
      "execution_count": null,
      "outputs": []
    },
    {
      "cell_type": "code",
      "source": [
        "rides.head()"
      ],
      "metadata": {
        "id": "0AJHC6gqcZu8"
      },
      "execution_count": null,
      "outputs": []
    },
    {
      "cell_type": "code",
      "source": [
        "f1 = lambda x: x.quantile(0.75)\n",
        "f2 = lambda x: (max(x) - min(x)) / x.mean()\n",
        "f3 = lambda x: (x > 40).sum()\n",
        "f4 = lambda x: x[x > 40].sum()\n",
        "rides['feature_1'] = rides.groupby('user_id', as_index=False)['ride_cost'].transform(f1)\n",
        "rides['feature_2'] = rides.groupby('user_id', as_index=False)['rating'].transform(f2)\n",
        "rides['feature_3'] = rides.groupby('car_id', as_index=False)['ride_duration'].transform(f3)\n",
        "rides['feature_4'] = rides.groupby('car_id', as_index=False)['ride_duration'].transform(f4)"
      ],
      "metadata": {
        "id": "rxfyjWuPZlQt"
      },
      "execution_count": null,
      "outputs": []
    },
    {
      "cell_type": "code",
      "source": [
        "result = rides"
      ],
      "metadata": {
        "id": "deb_TBUadTvg"
      },
      "execution_count": null,
      "outputs": []
    },
    {
      "cell_type": "code",
      "source": [
        "# Используем метод quantile для 75% перцентиля\n",
        "f1 = lambda x: x.quantile(0.75)\n",
        "\n",
        "# Вычисляем разницу между максимальным и минимальным значением, деленную на среднее\n",
        "f2 = lambda x: (x.max() - x.min()) / x.mean() if x.mean() != 0 else 0  # обрабатываем случай деления на ноль\n",
        "\n",
        "# Считаем количество значений > 40\n",
        "f3 = lambda x: (x > 40).sum()\n",
        "\n",
        "# Считаем сумму значений > 40\n",
        "f4 = lambda x: x[x > 40].sum()\n",
        "\n",
        "# Создаем фрейм данных с новыми признаками\n",
        "rides['feature_1'] = rides.groupby('user_id')['ride_cost'].transform(f1)\n",
        "rides['feature_2'] = rides.groupby('user_id')['rating'].transform(f2)\n",
        "rides['feature_3'] = rides.groupby('car_id')['ride_duration'].transform(f3)\n",
        "rides['feature_4'] = rides.groupby('car_id')['ride_duration'].transform(f4)\n",
        "\n",
        "# Записываем в результат\n",
        "result = rides"
      ],
      "metadata": {
        "id": "8IX9ojUqdGSH"
      },
      "execution_count": null,
      "outputs": []
    },
    {
      "cell_type": "code",
      "source": [
        "print(result['true_feature_1'].equals(result['feature_1']))\n",
        "print((result['true_feature_2'].round(2)).equals((result['feature_2']).round(2)))\n",
        "print(result['true_feature_3'].equals(result['feature_3']))\n",
        "print(result['true_feature_4'].equals(result['feature_4']))"
      ],
      "metadata": {
        "id": "BrfHkcIjcGfl"
      },
      "execution_count": null,
      "outputs": []
    },
    {
      "cell_type": "code",
      "source": [
        "import pandas as pd\n",
        "\n",
        "df = pd.read_csv('https://stepik.org/media/attachments/lesson/779916/3_1_7.csv')\n",
        "\n",
        "# В ans записан правильный ответ\n",
        "ans = pd.read_csv('https://stepik.org/media/attachments/lesson/779916/3_1_7_ans.csv')"
      ],
      "metadata": {
        "id": "1PGxqeZBf5d5"
      },
      "execution_count": null,
      "outputs": []
    },
    {
      "cell_type": "code",
      "source": [
        "df.head()"
      ],
      "metadata": {
        "id": "ipdZbfjNgAgT"
      },
      "execution_count": null,
      "outputs": []
    },
    {
      "cell_type": "code",
      "source": [
        "car_train_pivot = df.pivot_table(index = 'user_id',\n",
        "                                        columns = ['car_type'],\n",
        "                                        values=['car_id'],\n",
        "                                        aggfunc = ['count']).fillna(0)"
      ],
      "metadata": {
        "id": "HCGYSjotgBO2"
      },
      "execution_count": null,
      "outputs": []
    },
    {
      "cell_type": "code",
      "source": [
        "car_train_pivot"
      ],
      "metadata": {
        "id": "6t-mp8jriPuw"
      },
      "execution_count": null,
      "outputs": []
    },
    {
      "cell_type": "code",
      "source": [
        "car_user_pivot_2 = df.pivot_table(index = 'user_id',\n",
        "                                        values = ['distance','ride_cost'],\n",
        "                                        aggfunc = ['min','max','mean']).fillna(0)"
      ],
      "metadata": {
        "id": "BHluByoTgd28"
      },
      "execution_count": null,
      "outputs": []
    },
    {
      "cell_type": "code",
      "source": [
        "car_user_pivot_3 = df.pivot_table(index = 'user_id',\n",
        "                                        values = ['car_id'],\n",
        "                                        aggfunc = ['nunique']).fillna(0)"
      ],
      "metadata": {
        "id": "HhYlZ8GshgiK"
      },
      "execution_count": null,
      "outputs": []
    },
    {
      "cell_type": "code",
      "source": [
        "car_train_pivot.columns = [f'{i[2]}_{i[0]}' for i in car_train_pivot.columns]\n",
        "car_train_pivot.reset_index(inplace=True)"
      ],
      "metadata": {
        "id": "5KXudQLVge0u"
      },
      "execution_count": null,
      "outputs": []
    },
    {
      "cell_type": "code",
      "source": [
        "car_user_pivot_3.head()"
      ],
      "metadata": {
        "id": "7eltX8Y8jHWS"
      },
      "execution_count": null,
      "outputs": []
    },
    {
      "cell_type": "code",
      "source": [
        "car_user_pivot_2.columns = [f'{i[1]}_{i[0]}' for i in car_user_pivot_2.columns]\n",
        "car_user_pivot_2.reset_index(inplace=True)"
      ],
      "metadata": {
        "id": "6dArQISAjIEx"
      },
      "execution_count": null,
      "outputs": []
    },
    {
      "cell_type": "code",
      "source": [
        "car_user_pivot_3.columns = [f'{i[1]}_{i[0]}' for i in car_user_pivot_3.columns]\n",
        "car_user_pivot_3.reset_index(inplace=True)"
      ],
      "metadata": {
        "id": "wDdnSAEJjYbj"
      },
      "execution_count": null,
      "outputs": []
    },
    {
      "cell_type": "code",
      "source": [
        "piv_1_2 = car_train_pivot.merge(car_user_pivot_2, on = 'user_id', how = 'left')"
      ],
      "metadata": {
        "id": "BAdK-lWxjd8z"
      },
      "execution_count": null,
      "outputs": []
    },
    {
      "cell_type": "code",
      "source": [
        "piv_1_2_3 = piv_1_2.merge(car_user_pivot_3, on = 'user_id', how = 'left')"
      ],
      "metadata": {
        "id": "D2F3K8H2jyq_"
      },
      "execution_count": null,
      "outputs": []
    },
    {
      "cell_type": "code",
      "source": [
        "piv_1_2_3.head()"
      ],
      "metadata": {
        "id": "vNmIreN3jwfu"
      },
      "execution_count": null,
      "outputs": []
    },
    {
      "cell_type": "code",
      "source": [
        "car_train_pivot = df.pivot_table(index = 'user_id',\n",
        "                                        columns = ['car_type'],\n",
        "                                        values=['car_id'],\n",
        "                                        aggfunc = ['count']).fillna(0)\n",
        "car_user_pivot_2 = df.pivot_table(index = 'user_id',\n",
        "                                        values = ['distance','ride_cost'],\n",
        "                                        aggfunc = ['min','max','mean']).fillna(0)\n",
        "car_user_pivot_3 = df.pivot_table(index = 'user_id',\n",
        "                                        values = ['car_id'],\n",
        "                                        aggfunc = ['nunique']).fillna(0)\n",
        "car_train_pivot.columns = [f'{i[2]}_{i[0]}' for i in car_train_pivot.columns]\n",
        "car_train_pivot.reset_index(inplace=True)\n",
        "car_user_pivot_2.columns = [f'{i[1]}_{i[0]}' for i in car_user_pivot_2.columns]\n",
        "car_user_pivot_2.reset_index(inplace=True)\n",
        "car_user_pivot_3.columns = [f'{i[1]}_{i[0]}' for i in car_user_pivot_3.columns]\n",
        "car_user_pivot_3.reset_index(inplace=True)\n",
        "piv_1_2 = car_train_pivot.merge(car_user_pivot_2, on = 'user_id', how = 'left')\n",
        "piv_1_2_3 = piv_1_2.merge(car_user_pivot_3, on = 'user_id', how = 'left')"
      ],
      "metadata": {
        "id": "DqTu2CmPjxPt"
      },
      "execution_count": null,
      "outputs": []
    },
    {
      "cell_type": "code",
      "source": [
        "max_speed_pivot = df.pivot_table(index='user_id',\n",
        "                                   values='speed_max',\n",
        "                                   aggfunc='max').fillna(0)\n",
        "\n",
        "max_speed_pivot['crazy_driver'] = (max_speed_pivot['speed_max'] > 100).astype(int)\n",
        "\n",
        "max_speed_pivot.reset_index(inplace=True)\n"
      ],
      "metadata": {
        "id": "Q57TqTE_oVja"
      },
      "execution_count": null,
      "outputs": []
    },
    {
      "cell_type": "code",
      "source": [
        "piv_1_2_3_speed = piv_1_2_3.merge(max_speed_pivot, on = 'user_id', how = 'left')"
      ],
      "metadata": {
        "id": "d4L2cK5eoraE"
      },
      "execution_count": null,
      "outputs": []
    },
    {
      "cell_type": "code",
      "source": [
        "piv_1_2_3_speed.drop('speed_max',axis=1,inplace=True)"
      ],
      "metadata": {
        "id": "6zSNhSILoh4w"
      },
      "execution_count": null,
      "outputs": []
    },
    {
      "cell_type": "code",
      "source": [
        "piv_1_2_3['crazy_driver'] = piv_1_2_3.apply(lambda x: 1 if x.check > 100 else 0, axis=1)"
      ],
      "metadata": {
        "id": "2faBjjCplEni"
      },
      "execution_count": null,
      "outputs": []
    },
    {
      "cell_type": "code",
      "source": [
        "piv_1_2_3.drop('check',axis=1,inplace=True)"
      ],
      "metadata": {
        "id": "MkFgLglgltF4"
      },
      "execution_count": null,
      "outputs": []
    },
    {
      "cell_type": "code",
      "source": [
        "result = piv_1_2_3"
      ],
      "metadata": {
        "id": "EV9UhQV0naZv"
      },
      "execution_count": null,
      "outputs": []
    },
    {
      "cell_type": "code",
      "source": [
        "ans.head()"
      ],
      "metadata": {
        "id": "TxWftA8Elzzv"
      },
      "execution_count": null,
      "outputs": []
    },
    {
      "cell_type": "code",
      "source": [
        "import pandas as pd"
      ],
      "metadata": {
        "id": "HPVj2X7j9JnT"
      },
      "execution_count": null,
      "outputs": []
    },
    {
      "cell_type": "code",
      "source": [
        "path = 'https://stepik.org/media/attachments/lesson/779914/make_it_easy.csv'\n",
        "df = pd.read_csv(path)"
      ],
      "metadata": {
        "id": "Gbpelee8l17e"
      },
      "execution_count": null,
      "outputs": []
    },
    {
      "cell_type": "code",
      "source": [
        "df.head()"
      ],
      "metadata": {
        "id": "5QENK2ZF86Ay"
      },
      "execution_count": null,
      "outputs": []
    },
    {
      "cell_type": "code",
      "source": [
        "df.label.value_counts()"
      ],
      "metadata": {
        "id": "7tW68BzD9aQp"
      },
      "execution_count": null,
      "outputs": []
    },
    {
      "cell_type": "code",
      "source": [
        "df.feature_1.value_counts()"
      ],
      "metadata": {
        "id": "nja4mntmAvbf"
      },
      "execution_count": null,
      "outputs": []
    },
    {
      "cell_type": "code",
      "source": [
        "df.head(3)"
      ],
      "metadata": {
        "id": "B3Iw6o7aBcO7"
      },
      "execution_count": null,
      "outputs": []
    },
    {
      "cell_type": "code",
      "source": [
        "df.drop('mean_A_f1',axis=1,inplace=True)"
      ],
      "metadata": {
        "id": "BtbEymbrBwaT"
      },
      "execution_count": null,
      "outputs": []
    },
    {
      "cell_type": "code",
      "source": [
        "df['mean_f1'].value_counts()"
      ],
      "metadata": {
        "id": "afY3h7reBltK"
      },
      "execution_count": null,
      "outputs": []
    },
    {
      "cell_type": "code",
      "source": [
        "df['mean_f2'].value_counts()"
      ],
      "metadata": {
        "id": "4XWjnitjB-M_"
      },
      "execution_count": null,
      "outputs": []
    },
    {
      "cell_type": "code",
      "source": [
        "df[\"mean_f1\"] = df.groupby(\"label\")[\"feature_1\"].transform(\"mean\")"
      ],
      "metadata": {
        "id": "oVQGu3D-BNfL"
      },
      "execution_count": null,
      "outputs": []
    },
    {
      "cell_type": "code",
      "source": [
        "df[\"mean_f2\"] = df.groupby(\"label\")[\"feature_2\"].transform(\"mean\")"
      ],
      "metadata": {
        "id": "GQYUgwxwBgOu"
      },
      "execution_count": null,
      "outputs": []
    },
    {
      "cell_type": "code",
      "source": [
        "df['kill'] = df.apply(lambda x: (x.feature_1 - x.mean_f1) + (x.feature_2 - x.mean_f2), axis=1)"
      ],
      "metadata": {
        "id": "86UT63QNCkoc"
      },
      "execution_count": null,
      "outputs": []
    },
    {
      "cell_type": "code",
      "source": [
        "df.head(3)"
      ],
      "metadata": {
        "id": "ohVUtWL_DNWQ"
      },
      "execution_count": null,
      "outputs": []
    },
    {
      "cell_type": "code",
      "source": [
        "df_B = df[df['label'] == 'B']"
      ],
      "metadata": {
        "id": "i5zqkLm3EzP6"
      },
      "execution_count": null,
      "outputs": []
    },
    {
      "cell_type": "code",
      "source": [
        "df_A = df[df['label'] == 'A']"
      ],
      "metadata": {
        "id": "ZzEXoGJOFSiL"
      },
      "execution_count": null,
      "outputs": []
    },
    {
      "cell_type": "code",
      "source": [
        "df_B['kill'].min()"
      ],
      "metadata": {
        "id": "2tAJOCbmFMDU"
      },
      "execution_count": null,
      "outputs": []
    },
    {
      "cell_type": "code",
      "source": [
        "min_a = df_A['kill'].min()"
      ],
      "metadata": {
        "id": "r5dbrRThFUjA"
      },
      "execution_count": null,
      "outputs": []
    },
    {
      "cell_type": "code",
      "source": [
        "max_a = df_A['kill'].max()"
      ],
      "metadata": {
        "id": "pv3lswi1FcHK"
      },
      "execution_count": null,
      "outputs": []
    },
    {
      "cell_type": "code",
      "source": [
        "df['killer_feature'] = df.apply(lambda x: 1 if (x.kill >= min_a) & (x.kill <= max_a) else 0, axis=1)"
      ],
      "metadata": {
        "id": "gALga8adFkgL"
      },
      "execution_count": null,
      "outputs": []
    },
    {
      "cell_type": "code",
      "source": [
        "df['killer_feature'].value_counts()"
      ],
      "metadata": {
        "id": "tMZxloGwGKH2"
      },
      "execution_count": null,
      "outputs": []
    },
    {
      "cell_type": "code",
      "source": [
        "sns.histplot(df,x=df['feature_3'],y = df['kill'],hue=df['label'])"
      ],
      "metadata": {
        "id": "34wp59odDR9a"
      },
      "execution_count": null,
      "outputs": []
    },
    {
      "cell_type": "code",
      "source": [
        "import seaborn as sns"
      ],
      "metadata": {
        "id": "vJLuZKRJ9eBZ"
      },
      "execution_count": null,
      "outputs": []
    },
    {
      "cell_type": "code",
      "source": [
        "sns.pairplot(df,hue='label')"
      ],
      "metadata": {
        "id": "jvRs75Sy9kpE"
      },
      "execution_count": null,
      "outputs": []
    },
    {
      "cell_type": "code",
      "source": [
        "import pandas as pd"
      ],
      "metadata": {
        "id": "FeDTuDftpqFj"
      },
      "execution_count": null,
      "outputs": []
    },
    {
      "cell_type": "code",
      "source": [
        "df = pd.read_csv('https://stepik.org/media/attachments/lesson/779914/make_gold_features_example.csv')"
      ],
      "metadata": {
        "id": "4-6c0PcU-3ix"
      },
      "execution_count": null,
      "outputs": []
    },
    {
      "cell_type": "code",
      "source": [
        "df.head()"
      ],
      "metadata": {
        "id": "sk-bCbbvpWxC"
      },
      "execution_count": null,
      "outputs": []
    },
    {
      "cell_type": "code",
      "source": [
        "import seaborn as sns\n",
        "\n",
        "path = 'https://stepik.org/media/attachments/lesson/779914/fen_train.csv'\n",
        "train = pd.read_csv(path)\n",
        "\n",
        "# Переводим датасет в long формат\n",
        "df_melt = train.melt(\n",
        "    id_vars=\"signal_id\",\n",
        "    value_vars=[f\"p{i}\" for i in range(1, 128 + 1)],\n",
        "    var_name=\"orders\",\n",
        "    value_name=\"value\",\n",
        ").merge(train[[\"signal_id\", \"label\"]], on=\"signal_id\", how=\"left\")\n",
        "\n",
        "# Отбираем несколько примеров разных классов\n",
        "tmp = df_melt[df_melt.signal_id.isin([3, 13, 16, 256])]\n",
        "\n",
        "# Строим графику\n",
        "sns.relplot(\n",
        "    data=tmp,\n",
        "    x=\"orders\",\n",
        "    y=\"value\",\n",
        "    hue=\"label\",\n",
        "    style=\"signal_id\",\n",
        "    kind=\"line\",\n",
        "    aspect=3,\n",
        ").set_xticklabels(rotation=45, horizontalalignment=\"right\", step=2);"
      ],
      "metadata": {
        "id": "GppODG-NpX7x"
      },
      "execution_count": null,
      "outputs": []
    },
    {
      "cell_type": "code",
      "source": [
        "df = pd.read_csv('fen_train.csv')"
      ],
      "metadata": {
        "id": "-w8BxSTlrlYQ"
      },
      "execution_count": null,
      "outputs": []
    },
    {
      "cell_type": "code",
      "source": [
        "df.head()"
      ],
      "metadata": {
        "id": "tWgeBe0Krr5W"
      },
      "execution_count": null,
      "outputs": []
    },
    {
      "cell_type": "code",
      "source": [
        "df = pd.read_csv('https://stepik.org/media/attachments/lesson/779915/fs_task1_10f.csv')"
      ],
      "metadata": {
        "id": "0uiahroTrw14"
      },
      "execution_count": null,
      "outputs": []
    },
    {
      "cell_type": "code",
      "source": [
        "df.head()"
      ],
      "metadata": {
        "id": "65eDWnsAx1ua"
      },
      "execution_count": null,
      "outputs": []
    },
    {
      "cell_type": "code",
      "source": [
        "!pip install catboost"
      ],
      "metadata": {
        "id": "PZxrghmvywNr"
      },
      "execution_count": null,
      "outputs": []
    },
    {
      "cell_type": "code",
      "source": [
        "from catboost import CatBoostClassifier"
      ],
      "metadata": {
        "id": "rilEC9EJyyBy"
      },
      "execution_count": null,
      "outputs": []
    },
    {
      "cell_type": "code",
      "source": [
        "X = df.drop('target', axis=1, errors = 'ignore')\n",
        "y = df['target']"
      ],
      "metadata": {
        "id": "O4PuQKfTzE0v"
      },
      "execution_count": null,
      "outputs": []
    },
    {
      "cell_type": "code",
      "source": [
        "from sklearn.model_selection import train_test_split"
      ],
      "metadata": {
        "id": "UfMI96MQzRff"
      },
      "execution_count": null,
      "outputs": []
    },
    {
      "cell_type": "code",
      "source": [
        "X_train, X_test, y_train, y_test = train_test_split(X, y, test_size=0.2, random_state=42)"
      ],
      "metadata": {
        "id": "b8XggJxxzNbj"
      },
      "execution_count": null,
      "outputs": []
    },
    {
      "cell_type": "code",
      "source": [
        "model = CatBoostClassifier(random_state=42,\n",
        "                           thread_count=-1)"
      ],
      "metadata": {
        "id": "48iKK7cxysEa"
      },
      "execution_count": null,
      "outputs": []
    },
    {
      "cell_type": "code",
      "source": [
        "model.fit(X_train, y_train,\n",
        "          eval_set=(X_test, y_test),\n",
        "          verbose=100, plot=False,\n",
        "          early_stopping_rounds=100)"
      ],
      "metadata": {
        "id": "BPd5kvgRzV_H"
      },
      "execution_count": null,
      "outputs": []
    },
    {
      "cell_type": "code",
      "source": [
        "fi = model.get_feature_importance(prettified=True)\n",
        "fi"
      ],
      "metadata": {
        "id": "NWXyRyX8zaXH"
      },
      "execution_count": null,
      "outputs": []
    },
    {
      "cell_type": "code",
      "source": [
        "import matplotlib.pyplot as plt\n",
        "import numpy as np"
      ],
      "metadata": {
        "id": "0_uI0Fcmzrp6"
      },
      "execution_count": null,
      "outputs": []
    },
    {
      "cell_type": "code",
      "source": [
        "from sklearn.inspection import permutation_importance\n",
        "\n",
        "perm_importance = permutation_importance(model, X_test, y_test, n_repeats=10, random_state=1066)\n",
        "sorted_idx = perm_importance.importances_mean.argsort()\n",
        "fig = plt.figure(figsize=(12, 6))\n",
        "plt.barh(range(len(sorted_idx)), perm_importance.importances_mean[sorted_idx], align='center')\n",
        "plt.yticks(range(len(sorted_idx)), np.array(X.columns)[sorted_idx])\n",
        "plt.title('Permutation Importance');"
      ],
      "metadata": {
        "id": "ICXIma8QyZny"
      },
      "execution_count": null,
      "outputs": []
    },
    {
      "cell_type": "code",
      "source": [
        "import pandas as pd\n",
        "path = 'https://stepik.org/media/attachments/lesson/779915/fs_task2_22f.csv'\n",
        "df = pd.read_csv(path)"
      ],
      "metadata": {
        "id": "S-DFopCA1B4b"
      },
      "execution_count": null,
      "outputs": []
    },
    {
      "cell_type": "code",
      "source": [
        "df.head()"
      ],
      "metadata": {
        "id": "P7hkW7M-1DjW"
      },
      "execution_count": null,
      "outputs": []
    },
    {
      "cell_type": "code",
      "source": [
        "X = df.drop(['target_reg','target_class'], axis=1, errors = 'ignore')\n",
        "y = df['target']"
      ],
      "metadata": {
        "id": "3jEq-OeW1EVQ"
      },
      "execution_count": null,
      "outputs": []
    },
    {
      "cell_type": "code",
      "source": [
        "!pip install phik -q"
      ],
      "metadata": {
        "id": "5KqQsJNu1UTk"
      },
      "execution_count": null,
      "outputs": []
    },
    {
      "cell_type": "code",
      "source": [
        "import phik\n",
        "from phik.report import plot_correlation_matrix\n",
        "from phik import report"
      ],
      "metadata": {
        "id": "tGsVBBYo1XBa"
      },
      "execution_count": null,
      "outputs": []
    },
    {
      "cell_type": "code",
      "source": [
        "phik_overview = df.phik_matrix().round(2).sort_values('target_reg')\n",
        "\n",
        "plot_correlation_matrix(phik_overview.values,\n",
        "                        x_labels=phik_overview.columns,\n",
        "                        y_labels=phik_overview.index,\n",
        "                        vmin=0, vmax=1, color_map=\"Greens\",\n",
        "                        title=r\"correlation $\\phi_K$\",\n",
        "                        fontsize_factor=0.8, figsize=(11, 6))\n",
        "plt.tight_layout()"
      ],
      "metadata": {
        "id": "thXWrjpV1XYS"
      },
      "execution_count": null,
      "outputs": []
    },
    {
      "cell_type": "code",
      "source": [
        "significance_overview = df.significance_matrix().fillna(0).round(1).sort_values('target_reg')\n",
        "\n",
        "plot_correlation_matrix(significance_overview.values,\n",
        "                        x_labels=significance_overview.columns,\n",
        "                        y_labels=significance_overview.index,\n",
        "                        vmin=0, vmax=1, color_map=\"Greens\",\n",
        "                        title=\"Significance of the coefficients\",\n",
        "                        usetex=False, fontsize_factor=0.8, figsize=(11, 6))\n",
        "plt.tight_layout()"
      ],
      "metadata": {
        "id": "lZvx2Bl81aAF"
      },
      "execution_count": null,
      "outputs": []
    },
    {
      "cell_type": "code",
      "source": [
        "path = 'https://stepik.org/media/attachments/lesson/779915/fs_task3_310f.csv'\n",
        "df = pd.read_csv(path)"
      ],
      "metadata": {
        "id": "TBASc03lGV0p"
      },
      "execution_count": null,
      "outputs": []
    },
    {
      "cell_type": "code",
      "source": [
        "df.head()"
      ],
      "metadata": {
        "id": "yuUQuPe_GWgA"
      },
      "execution_count": null,
      "outputs": []
    },
    {
      "cell_type": "code",
      "source": [
        "phik_overview = df.phik_matrix().round(2).sort_values('target')\n",
        "\n",
        "plot_correlation_matrix(phik_overview.values,\n",
        "                        x_labels=phik_overview.columns,\n",
        "                        y_labels=phik_overview.index,\n",
        "                        vmin=0, vmax=1, color_map=\"Greens\",\n",
        "                        title=r\"correlation $\\phi_K$\",\n",
        "                        fontsize_factor=0.8, figsize=(11, 6))\n",
        "plt.tight_layout()"
      ],
      "metadata": {
        "id": "BlsXOypXGaQK"
      },
      "execution_count": null,
      "outputs": []
    },
    {
      "cell_type": "code",
      "source": [
        "X = df.drop(['target'], axis=1, errors = 'ignore')\n",
        "y = df['target']"
      ],
      "metadata": {
        "id": "QyEnzE6SGzg7"
      },
      "execution_count": null,
      "outputs": []
    },
    {
      "cell_type": "code",
      "source": [
        "X_train, X_test, y_train, y_test = train_test_split(X, y, test_size=0.2, random_state=42)"
      ],
      "metadata": {
        "id": "S9ikgRttG6eN"
      },
      "execution_count": null,
      "outputs": []
    },
    {
      "cell_type": "code",
      "source": [
        "model = CatBoostClassifier(random_state=42,\n",
        "                           thread_count=-1)\n",
        "model.fit(X_train, y_train,\n",
        "          eval_set=(X_test, y_test),\n",
        "          verbose=100, plot=False,\n",
        "          early_stopping_rounds=100)"
      ],
      "metadata": {
        "id": "jwTTe5J_G637"
      },
      "execution_count": null,
      "outputs": []
    },
    {
      "cell_type": "code",
      "source": [
        "fi = model.get_feature_importance(prettified=True)\n",
        "fi.head(20)"
      ],
      "metadata": {
        "id": "HJj5CJZ1G9HB"
      },
      "execution_count": null,
      "outputs": []
    },
    {
      "cell_type": "code",
      "source": [
        "\n",
        "df.hist(figsize=(100, 100), layout=(10, 31), bins=30);"
      ],
      "metadata": {
        "id": "PXagSIMERWTG"
      },
      "execution_count": null,
      "outputs": []
    },
    {
      "cell_type": "code",
      "source": [],
      "metadata": {
        "id": "V0LTRjnWRZAW"
      },
      "execution_count": null,
      "outputs": []
    }
  ]
}