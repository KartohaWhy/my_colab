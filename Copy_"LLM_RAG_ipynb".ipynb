{
  "nbformat": 4,
  "nbformat_minor": 0,
  "metadata": {
    "colab": {
      "provenance": [],
      "gpuType": "T4",
      "include_colab_link": true
    },
    "kernelspec": {
      "name": "python3",
      "display_name": "Python 3"
    },
    "language_info": {
      "name": "python"
    },
    "accelerator": "GPU"
  },
  "cells": [
    {
      "cell_type": "markdown",
      "metadata": {
        "id": "view-in-github",
        "colab_type": "text"
      },
      "source": [
        "<a href=\"https://colab.research.google.com/github/KartohaWhy/my_colab/blob/main/Copy_%22LLM_RAG_ipynb%22.ipynb\" target=\"_parent\"><img src=\"https://colab.research.google.com/assets/colab-badge.svg\" alt=\"Open In Colab\"/></a>"
      ]
    },
    {
      "cell_type": "markdown",
      "source": [
        "# Итоговое домашнее задание курса\n",
        "\n",
        "В этом задании Вы потренируетесь применять различные модели из HuggingFace для решения задач NLP, а также поработаете с LLM и углубитесь в особенности промптинга для взаимодействия с моделями.\n",
        "\n",
        "## Часть 1: тренируемся применять предобученные модели для решения различных NLP-задач\n",
        "\n",
        "Загрузим датасет cnn-dailymail с ежедневными новостями."
      ],
      "metadata": {
        "id": "jWMJwXAz5y-6"
      }
    },
    {
      "cell_type": "code",
      "source": [
        "import kagglehub\n",
        "\n",
        "# Download latest version\n",
        "path = kagglehub.dataset_download(\"gowrishankarp/newspaper-text-summarization-cnn-dailymail\")\n",
        "\n",
        "print(\"Path to dataset files:\", path)"
      ],
      "metadata": {
        "id": "jv9dksozukbf"
      },
      "execution_count": null,
      "outputs": []
    },
    {
      "cell_type": "code",
      "source": [
        "import os\n",
        "for file in os.listdir(path):\n",
        "    print(\"📄\", file)"
      ],
      "metadata": {
        "id": "GePAgsIAuvJY"
      },
      "execution_count": null,
      "outputs": []
    },
    {
      "cell_type": "code",
      "source": [
        "inner_path = os.path.join(path, \"cnn_dailymail\")\n",
        "for file in os.listdir(inner_path):\n",
        "    print(\"📄\", file)"
      ],
      "metadata": {
        "id": "jx9LSdF-vT-e"
      },
      "execution_count": null,
      "outputs": []
    },
    {
      "cell_type": "code",
      "source": [
        "import pandas as pd\n",
        "\n",
        "df = pd.read_csv(os.path.join(inner_path, \"train.csv\"))\n",
        "print(df.columns)\n",
        "print(df.head())"
      ],
      "metadata": {
        "id": "7cM8EmJXvjyf"
      },
      "execution_count": null,
      "outputs": []
    },
    {
      "cell_type": "markdown",
      "source": [
        "## Задача 1: суммаризация\n",
        "\n",
        "Эту задачу мы решим за вас. Последовательность следующая:\n",
        "\n",
        "- создаем pipeline для суммаризации, указываем название модели\n",
        "- берем первую новость из нашего датасета (текст этой новости)\n",
        "- применяем модель суммаризации к этой новости, причем хотим саммари длины от 30 до 130 токенов. Смотрим результат."
      ],
      "metadata": {
        "id": "LTgFcPNqxBvN"
      }
    },
    {
      "cell_type": "code",
      "source": [
        "from transformers import pipeline\n",
        "\n",
        "summarizer = pipeline(\"summarization\", model=\"facebook/bart-large-cnn\")"
      ],
      "metadata": {
        "id": "lyc4dBWTwAlJ"
      },
      "execution_count": null,
      "outputs": []
    },
    {
      "cell_type": "code",
      "source": [
        "df['article'][0]"
      ],
      "metadata": {
        "id": "oiUCFoXjwrv-"
      },
      "execution_count": null,
      "outputs": []
    },
    {
      "cell_type": "code",
      "source": [
        "summary = summarizer(df['article'][0], max_length=130, min_length=30, do_sample=False)\n",
        "summary[0]['summary_text']"
      ],
      "metadata": {
        "id": "qt_h2w8wwbgp"
      },
      "execution_count": null,
      "outputs": []
    },
    {
      "cell_type": "markdown",
      "source": [
        "Задание: выведите в цикле для первых 10 новостей из датасета их текст и саммари."
      ],
      "metadata": {
        "id": "pGz_yoE6yoDe"
      }
    },
    {
      "cell_type": "code",
      "source": [
        "for i in range(10):\n",
        "\n",
        "    article = df['article'][i]\n",
        "\n",
        "    print(f\"--- Обработка новости №{i+1} ---\")\n",
        "\n",
        "    if pd.isna(article) or not str(article).strip():\n",
        "        print(\"! Статья пустая или отсутствует. Пропускаем.\")\n",
        "        print(\"-\" * 80)\n",
        "        continue\n",
        "\n",
        "    try:\n",
        "        # Генерация саммари\n",
        "        summary = summarizer(\n",
        "            article[:1024],\n",
        "            max_length=130,\n",
        "            min_length=30,\n",
        "            do_sample=False\n",
        "        )\n",
        "\n",
        "        # Вывод результатов\n",
        "        print(\"\\nИсходный текст (первые 500 символов):\")\n",
        "        print(str(article)[:500])\n",
        "        print(\"\\nСаммари:\")\n",
        "        print(summary[0]['summary_text'])\n",
        "\n",
        "    except Exception as e:\n",
        "        print(f\"! Произошла ошибка при обработке: {e}\")\n",
        "\n",
        "    print(\"-\" * 80)"
      ],
      "metadata": {
        "id": "AKn9d19KJydP"
      },
      "execution_count": null,
      "outputs": []
    },
    {
      "cell_type": "markdown",
      "source": [
        "## Задача 2: классификация\n",
        "\n",
        "Теперь решим задачу классификации, а именно, анализа тональности новостей. Повторите последовательность действий:\n",
        "- создайте pipeline для анализа тональности (\"sentiment-analysis\"), укажите название модели \"cardiffnlp/twitter-roberta-base-sentiment-latest\"\n",
        "- возьмите первую новость из нашего датасета (текст этой новости)\n",
        "- применяем модель классификации к этой новости, выведите результат\n"
      ],
      "metadata": {
        "id": "WAdQe4OMxIQ4"
      }
    },
    {
      "cell_type": "code",
      "source": [
        "# ваш код здесь\n",
        "sentiment_pipeline = pipeline(\n",
        "    \"sentiment-analysis\",\n",
        "    model=\"cardiffnlp/twitter-roberta-base-sentiment-latest\"\n",
        ")"
      ],
      "metadata": {
        "id": "Em5baHIixYwM"
      },
      "execution_count": null,
      "outputs": []
    },
    {
      "cell_type": "code",
      "source": [
        "df['article'][0]"
      ],
      "metadata": {
        "id": "GeaS_woZ3HER"
      },
      "execution_count": null,
      "outputs": []
    },
    {
      "cell_type": "code",
      "source": [
        "sentiment = sentiment_pipeline(df['article'][0])\n",
        "print(sentiment[0]['label'])\n",
        "print(sentiment[0]['score'])"
      ],
      "metadata": {
        "id": "T3LV9pus3OG8"
      },
      "execution_count": null,
      "outputs": []
    },
    {
      "cell_type": "markdown",
      "source": [
        "Теперь в цикле примените классификатор к первым 10 новостям. Что произошло?"
      ],
      "metadata": {
        "id": "x4--FaxVzE3J"
      }
    },
    {
      "cell_type": "code",
      "source": [
        "# ваш код здесь\n",
        "for i in range(10):\n",
        "    # Получение статьи\n",
        "    article = df['article'][i]\n",
        "\n",
        "    # Генерация тональности\n",
        "    sentiment = sentiment_pipeline(article)\n",
        "\n",
        "    # Вывод результатов\n",
        "    print(f\"\\nНовость №{i+1}:\")\n",
        "    print(\"\\nИсходный текст:\")\n",
        "    print(article[:500])\n",
        "    print(\"\\nТональность:\")\n",
        "    print(sentiment[0]['label'])\n",
        "    print(\"\\nВероятность:\")\n",
        "    print(sentiment[0]['score'])\n",
        "    print(\"-\" * 80)"
      ],
      "metadata": {
        "id": "Ph75Ky5BzI_4"
      },
      "execution_count": null,
      "outputs": []
    },
    {
      "cell_type": "markdown",
      "source": [
        "Для длинных новостей сначала сделайте суммаризацию, а затем применяйте классификатор. Проделайте это упражнение в цикле для первых 10 новостей. Теперь все получилось?"
      ],
      "metadata": {
        "id": "ELRYX12DzK0V"
      }
    },
    {
      "cell_type": "code",
      "source": [
        "from transformers import AutoTokenizer\n",
        "\n",
        "tokenizer = AutoTokenizer.from_pretrained(\"facebook/bart-large-cnn\")"
      ],
      "metadata": {
        "id": "xQjtcU797vDX"
      },
      "execution_count": null,
      "outputs": []
    },
    {
      "cell_type": "code",
      "source": [
        "summarizer = pipeline(\"summarization\", model=\"facebook/bart-large-cnn\")\n",
        "sentiment_pipeline = pipeline(\n",
        "    \"sentiment-analysis\",\n",
        "    model=\"cardiffnlp/twitter-roberta-base-sentiment-latest\"\n",
        ")\n",
        "\n",
        "MAX_INPUT_CHARS = 4096\n",
        "\n",
        "for i in range(10):\n",
        "    article = df['article'][i]\n",
        "    print(f\"--- Обработка новости №{i+1} ---\")\n",
        "\n",
        "    try:\n",
        "\n",
        "        article_text = str(article).strip()\n",
        "        safe_article_chunk = article_text[:MAX_INPUT_CHARS]\n",
        "        # Модель сама обрежет длинный текст, но лучше подавать ей разумный кусок\n",
        "        summary_result = summarizer(\n",
        "            safe_article_chunk,\n",
        "            max_length=150,\n",
        "            min_length=40,\n",
        "            do_sample=False\n",
        "        )\n",
        "        summary_text = summary_result[0]['summary_text']\n",
        "\n",
        "\n",
        "        sentiment = sentiment_pipeline(summary_text)\n",
        "\n",
        "\n",
        "        print(\"\\nИсходный текст (первые 500 символов):\")\n",
        "        print(f\"{str(article)[:500]}...\")\n",
        "\n",
        "        print(\"\\n Краткое содержание (Саммари):\")\n",
        "        print(summary_text)\n",
        "\n",
        "        print(\"\\n Тональность (по саммари):\")\n",
        "        label = sentiment[0]['label']\n",
        "        score = sentiment[0]['score']\n",
        "\n",
        "\n",
        "        print(f\"Результат: {label}\")\n",
        "        print(f\"Уверенность: {score:.2%}\") # Выводим в процентах\n",
        "\n",
        "    except Exception as e:\n",
        "        print(f\"! Произошла непредвиденная ошибка при обработке: {e}\")\n",
        "\n",
        "    finally:\n",
        "        print(\"-\" * 80 + \"\\n\")"
      ],
      "metadata": {
        "id": "moyOM0UhzT-1"
      },
      "execution_count": null,
      "outputs": []
    },
    {
      "cell_type": "markdown",
      "source": [
        "## Задача 3: распознавание именованных сущностей (NER)\n",
        "\n",
        "Наконец, решим задачу поиска именованных сущностей в текстах новостей (Named Entity Recognition, NER). Повторите последовательность действий:\n",
        "\n",
        "- создайте pipeline для NER (\"ner\"), укажите название модели \"dslim/bert-base-NER\". Также в пайплайне укажите aggregation_strategy=\"simple\" (это способ определения именованных сущностей для сущностей из нескольких слов)\n",
        "- возьмите первую новость из нашего датасета (текст этой новости)\n",
        "- примените модель к этой новости, выведите результат"
      ],
      "metadata": {
        "id": "svM2JCnxxwBK"
      }
    },
    {
      "cell_type": "code",
      "source": [
        "# ваш код здесь\n",
        "ner_pipeline = pipeline(\n",
        "    \"ner\",\n",
        "    model=\"dslim/bert-base-NER\",\n",
        "    aggregation_strategy=\"simple\"\n",
        ")"
      ],
      "metadata": {
        "id": "HNkPUxEy5xIA"
      },
      "execution_count": null,
      "outputs": []
    },
    {
      "cell_type": "code",
      "source": [
        "df['article'][0]"
      ],
      "metadata": {
        "id": "ZcbE3uGuSu45"
      },
      "execution_count": null,
      "outputs": []
    },
    {
      "cell_type": "code",
      "source": [
        "ner = ner_pipeline(df['article'][0])\n",
        "for entity in ner:\n",
        "        print(\n",
        "            f\"Сущность: {entity['word']}, \"\n",
        "            f\"Тип: {entity['entity_group']}, \"\n",
        "            f\"Уверенность: {entity['score']:.2%}\"\n",
        "        )"
      ],
      "metadata": {
        "id": "4FoQ2lyCS2fh"
      },
      "execution_count": null,
      "outputs": []
    },
    {
      "cell_type": "markdown",
      "source": [
        "Примените модель к первым 10 новостям из датасета. Если возникнут проблемы - попробуйте их исправить."
      ],
      "metadata": {
        "id": "wX6mDkkp0CFk"
      }
    },
    {
      "cell_type": "code",
      "source": [
        "# ваш код здесь\n",
        "\n",
        "for i in range(10):\n",
        "    try:\n",
        "        # Получение текста новости\n",
        "        article = df['article'][i]\n",
        "\n",
        "        # Проверка на пустые значения\n",
        "        if pd.isna(article):\n",
        "            print(f\"\\nНовость №{i+1}: отсутствует текст\")\n",
        "            continue\n",
        "\n",
        "        # Обрезаем текст, если он слишком длинный\n",
        "        safe_article = str(article)[:4096].strip()\n",
        "\n",
        "        # Извлечение сущностей\n",
        "        entities = ner_pipeline(safe_article)\n",
        "\n",
        "        # Вывод результатов\n",
        "        print(f\"\\n--- Новость №{i+1} ---\")\n",
        "        print(f\"Первые 500 символов текста:\\n{str(article)[:500]}...\")\n",
        "        print(\"\\nНайденные сущности:\")\n",
        "\n",
        "        if not entities:\n",
        "            print(\"Сущности не найдены\")\n",
        "            continue\n",
        "\n",
        "        for entity in entities:\n",
        "            print(\n",
        "                f\"  Сущность: {entity['word']}, \"\n",
        "                f\"Тип: {entity['entity_group']}, \"\n",
        "                f\"Уверенность: {entity['score']:.2%}\"\n",
        "            )\n",
        "\n",
        "    except Exception as e:\n",
        "        print(f\"\\nОшибка при обработке новости №{i+1}: {str(e)}\")\n",
        "\n",
        "    finally:\n",
        "        print(\"-\" * 80)"
      ],
      "metadata": {
        "id": "k49hUXxzz8B8"
      },
      "execution_count": null,
      "outputs": []
    },
    {
      "cell_type": "markdown",
      "source": [
        "## Часть 2: применяем большие генеративные модели\n",
        "\n",
        "Поработаем с моделью [OpenChat](https://huggingface.co/openchat/openchat-3.5-0106).\n",
        "\n",
        "Загрузите модель (запустите ячейки ниже)."
      ],
      "metadata": {
        "id": "cBxOeHgO0LT9"
      }
    },
    {
      "cell_type": "code",
      "source": [
        "import torch\n",
        "import gc\n",
        "\n",
        "torch.cuda.empty_cache()\n",
        "gc.collect()"
      ],
      "metadata": {
        "id": "mh01-0_y0d9h"
      },
      "execution_count": null,
      "outputs": []
    },
    {
      "cell_type": "code",
      "source": [
        "import transformers\n",
        "\n",
        "device = torch.device('cuda' if torch.cuda.is_available() else 'cpu')\n",
        "\n",
        "model_name = 'openchat/openchat-3.5-0106'\n",
        "\n",
        "tokenizer = transformers.LlamaTokenizer.from_pretrained(model_name, device_map=device)\n",
        "tokenizer.pad_token_id = tokenizer.eos_token_id\n",
        "\n",
        "model = transformers.AutoModelForCausalLM.from_pretrained(\n",
        "    model_name,\n",
        "    device_map='auto',\n",
        "    torch_dtype=torch.float16,\n",
        "    low_cpu_mem_usage=True,\n",
        "    offload_state_dict=True,\n",
        ")"
      ],
      "metadata": {
        "id": "tFqFfzuY0eWp"
      },
      "execution_count": null,
      "outputs": []
    },
    {
      "cell_type": "markdown",
      "source": [
        "### Сколько гигабайт GPU заняла модель?"
      ],
      "metadata": {
        "id": "xxrBrY3ysltK"
      }
    },
    {
      "cell_type": "code",
      "source": [
        "# ваш код или проверка здесь\n",
        "\n",
        "# Функция для подсчёта памяти\n",
        "def count_parameters(model):\n",
        "    total_params = sum(p.numel() for p in model.parameters())\n",
        "    return total_params\n",
        "\n",
        "def get_model_size_gb(model):\n",
        "    total_params = count_parameters(model)\n",
        "    total_bytes = total_params * 2\n",
        "    return total_bytes / (1024 ** 3)  # Конвертация в гигабайты\n",
        "\n",
        "# Подсчёт памяти\n",
        "model_size_gb = get_model_size_gb(model)\n",
        "print(f\"Размер модели на GPU: {model_size_gb:.2f} ГБ\")\n",
        "\n",
        "# Дополнительно можно проверить использование памяти GPU\n",
        "print(\"\\nИспользование памяти GPU:\")\n",
        "print(f\"Общая память GPU: {torch.cuda.get_device_properties(0).total_memory / (1024**3):.2f} ГБ\")\n",
        "print(f\"Занято памяти GPU: {torch.cuda.memory_allocated() / (1024**3):.2f} ГБ\")\n",
        "print(f\"Максимально использовалось памяти GPU: {torch.cuda.max_memory_allocated() / (1024**3):.2f} ГБ\")"
      ],
      "metadata": {
        "id": "3N8pjazKsrni"
      },
      "execution_count": null,
      "outputs": []
    },
    {
      "cell_type": "markdown",
      "source": [
        "### Задание: с помощью OpenChat попробуйте решить все три задачи выше.\n",
        "\n",
        "Решим первую задачу (анализ тональности) за вас. Мы попытались подобрать полезную инструкцию для модели.\n",
        "\n",
        "Очень важно проверить, что среда выполнения в google colab - это GPU! Иначе генерация будет идти ооооочень медленно."
      ],
      "metadata": {
        "id": "Gl0ftqk20uJ_"
      }
    },
    {
      "cell_type": "code",
      "source": [
        "prompt = \"Classify the following article as positive, neutral or negative: \" + df['article'][0]\n",
        "batch = tokenizer(prompt, return_tensors='pt', return_token_type_ids=False).to(device)\n",
        "print(\"Input batch (encoded):\", batch)"
      ],
      "metadata": {
        "id": "m-aBwGIK0mBX"
      },
      "execution_count": null,
      "outputs": []
    },
    {
      "cell_type": "code",
      "source": [
        "output_tokens = model.generate(\n",
        "    **batch,\n",
        "    max_new_tokens=50, # максимальная длина ответа\n",
        "    temperature=0.7, # можно менять этот параметр для настройки вариативности/точности результата\n",
        "    top_p=0.9, # можно менять этот параметр для настройки вариативности/точности результата\n",
        "    do_sample=True,\n",
        "    eos_token_id=tokenizer.eos_token_id\n",
        ")\n",
        "\n",
        "generated_tokens = output_tokens[0][batch[\"input_ids\"].shape[1]:] # выводим на экран только сгенерированный текст, без исходного\n",
        "response = tokenizer.decode(generated_tokens, skip_special_tokens=True)\n",
        "\n",
        "print(\"📄 Ответ модели:\")\n",
        "print(response.strip())"
      ],
      "metadata": {
        "id": "zNdau1lCy-gL"
      },
      "execution_count": null,
      "outputs": []
    },
    {
      "cell_type": "markdown",
      "source": [
        "Получилось не очень :( Как будто модель не поняла, чего мы от нее хотим.\n",
        "\n",
        "Мы можем дать модели примеры ответов в удобном для нее шаблоне. Попробуем!"
      ],
      "metadata": {
        "id": "AK9Mm3t-zADF"
      }
    },
    {
      "cell_type": "code",
      "source": [
        "prompt = \"\"\"\n",
        "GPT4 Correct Assistant:\n",
        "You are a helpful assistant that classifies the sentiment of news headlines as Positive, Neutral, or Negative.\n",
        "Classify the sentiment of each news item as Positive, Neutral, or Negative.\n",
        "\n",
        "GPT4 Correct User:\n",
        "Question: Apple's new iPhone sales break records in first weekend.\n",
        "GPT4 Correct Assistant:\n",
        "Correct Answer: POSITIVE <|end_of_turn|>\n",
        "\n",
        "GPT4 Correct User:\n",
        "Question: The city council met Tuesday to discuss zoning regulations.\n",
        "GPT4 Correct Assistant:\n",
        "Correct Answer: NEUTRAL <|end_of_turn|>\n",
        "\n",
        "GPT4 Correct User:\n",
        "Question: Severe floods displace thousands in southern regions.\n",
        "GPT4 Correct Assistant:\n",
        "Correct Answer: NEGATIVE <|end_of_turn|>\n",
        "\n",
        "GPT4 Correct User: Question: \"\"\" + df['article'][0] + \"\"\"\n",
        "GPT4 Correct Assistant:\n",
        "\"\"\".strip()\n",
        "\n",
        "batch = tokenizer(prompt, return_tensors='pt', return_token_type_ids=False).to(device)\n",
        "print(\"Input batch (encoded):\", batch)"
      ],
      "metadata": {
        "id": "lUZjr02qwwPq"
      },
      "execution_count": null,
      "outputs": []
    },
    {
      "cell_type": "code",
      "source": [
        "output_tokens = model.generate(\n",
        "    **batch,\n",
        "    max_new_tokens=50, # максимальная длина ответа\n",
        "    temperature=0.7, # можно менять этот параметр для настройки вариативности/точности результата\n",
        "    top_p=0.9, # можно менять этот параметр для настройки вариативности/точности результата\n",
        "    do_sample=True,\n",
        "    eos_token_id=tokenizer.eos_token_id\n",
        ")\n",
        "\n",
        "generated_tokens = output_tokens[0][batch[\"input_ids\"].shape[1]:] # выводим на экран только сгенерированный текст, без исходного\n",
        "response = tokenizer.decode(generated_tokens, skip_special_tokens=True)\n",
        "\n",
        "print(\"📄 Ответ модели:\")\n",
        "print(response.strip())"
      ],
      "metadata": {
        "id": "klMD08OS1EH4"
      },
      "execution_count": null,
      "outputs": []
    },
    {
      "cell_type": "markdown",
      "source": [
        "Ваша очередь!\n",
        "\n",
        "- Подберите промпт (текстовый запрос) для решения задачи суммаризации и запустите генерацию для первой новости из датасета\n",
        "- Подберите промпт для решения задачи NER и запустите генерацию для первой новости из датасета\n",
        "\n",
        "Оцените визуально результат и обязательно напишите текстом выводы:\n",
        "- Хорошо ли справилась LLM?\n",
        "- LLM справилась лучше, чем специализированные модели из части 1 или хуже?"
      ],
      "metadata": {
        "id": "Mo3psB8G1Jb6"
      }
    },
    {
      "cell_type": "code",
      "source": [
        "# ваш код здесь\n",
        "# Промпт для суммаризации\n",
        "summarization_prompt = f\"\"\"\n",
        "GPT4 Summarizer:\n",
        "You are an expert news summarizer. Create a concise summary of the news article in 3-4 sentences, preserving the main ideas and key facts.\n",
        "\n",
        "Article: {df['article'][0]}\n",
        "\n",
        "Summary:\n",
        "\"\"\"\n",
        "\n",
        "# Подготовка и генерация\n",
        "batch = tokenizer(summarization_prompt, return_tensors='pt', return_token_type_ids=False).to(device)\n"
      ],
      "metadata": {
        "id": "4wfjgTH91jfO"
      },
      "execution_count": null,
      "outputs": []
    },
    {
      "cell_type": "code",
      "source": [
        "output_tokens = model.generate(\n",
        "    **batch,\n",
        "    max_new_tokens=150,  # увеличено для более длинного ответа\n",
        "    temperature=0.7,\n",
        "    top_p=0.9,\n",
        "    do_sample=True,\n",
        "    eos_token_id=tokenizer.eos_token_id\n",
        ")\n",
        "\n",
        "generated_tokens = output_tokens[0][batch[\"input_ids\"].shape[1]:]\n",
        "summary = tokenizer.decode(generated_tokens, skip_special_tokens=True)\n",
        "\n",
        "print(\"\\n📊 Сгенерированная суммаризация:\")\n",
        "print(summary.strip())"
      ],
      "metadata": {
        "id": "mquzltSyhtlF"
      },
      "execution_count": null,
      "outputs": []
    },
    {
      "cell_type": "code",
      "source": [
        "# Промпт для NER\n",
        "ner_prompt = f\"\"\"\n",
        "Named Entity Recognizer:\n",
        "Extract all named entities from the text and classify them into categories:\n",
        "- PERSON (люди)\n",
        "- ORG (организации)\n",
        "- LOC (места)\n",
        "- DATE (даты)\n",
        "- MONEY (денежные суммы)\n",
        "- EVENT (события)\n",
        "\n",
        "Format your response as a list of entities with their types:\n",
        "\n",
        "Text: {df['article'][0]}\n",
        "\n",
        "Entities:\n",
        "\"\"\"\n",
        "\n",
        "# Подготовка и генерация\n",
        "batch = tokenizer(ner_prompt, return_tensors='pt', return_token_type_ids=False).to(device)"
      ],
      "metadata": {
        "id": "q4QrLLtSiSWc"
      },
      "execution_count": null,
      "outputs": []
    },
    {
      "cell_type": "code",
      "source": [
        "output_tokens = model.generate(\n",
        "    **batch,\n",
        "    max_new_tokens=200,  # увеличено для более подробного ответа\n",
        "    temperature=0.7,\n",
        "    top_p=0.9,\n",
        "    do_sample=True,\n",
        "    eos_token_id=tokenizer.eos_token_id\n",
        ")\n",
        "\n",
        "generated_tokens = output_tokens[0][batch[\"input_ids\"].shape[1]:]\n",
        "entities = tokenizer.decode(generated_tokens, skip_special_tokens=True)\n",
        "\n",
        "print(\"\\n🔍 Извлеченные сущности:\")\n",
        "print(entities.strip())"
      ],
      "metadata": {
        "id": "CXtjRBxAiXUG"
      },
      "execution_count": null,
      "outputs": []
    },
    {
      "cell_type": "markdown",
      "source": [
        "# Выводы\n",
        "\n",
        "LLM справилась с задачей суммаризации, но в отличии от специализированных моделей, добавила всё-таки лишнюю информацию. Она хуже концентрируется на основных фактах, добавляя лишние детали\n",
        "\n",
        "Базовая суммаризация за счет моделей справилась всё-таки лучше, чем LLM.\n",
        "\n",
        "С задачей NER LLM также справилась хуже моделей. Во-первых, она нашла меньше корректных именованных сущностей. Ошибки в определении нашлись в обоих случаях. Можно сказать, что LLM нашла те сущности, в которых у специализированных моделей уверенность около 99%. А сущности с уверенностью, например, 90% LLM найти уже не смогла"
      ],
      "metadata": {
        "id": "Fq2uSKbkTGKi"
      }
    },
    {
      "cell_type": "markdown",
      "source": [
        "## Часть 3: творческая\n",
        "\n",
        "Попробуйте [собрать RAG-систему](https://colab.research.google.com/drive/196TKVfLWesbrF7f4KNHMGZNJC3hfg5IK?usp=sharing), как мы делали это на вебинаре, для модели OpenChat (можно использовать код по ссылке, только внимательно смотрите, все ли параметры актуальны именно для этой модели).\n",
        "\n",
        "В качестве данных давайте возьмем [rag-mini-bioasq](https://huggingface.co/datasets/enelpol/rag-mini-bioasq), это структурно схожый датасет с тем, что был в семинаре, но теперь он по био-медицинской тематике. Это сабдатасет с вокршопа [the BioASQ Challenge](https://www.bioasq.org/), то есть вы решаете задачу самого актуального соревнования в сфере био-медицинского NLP!\n",
        "\n",
        "Основная сложность, с которой вы сталкнетесь, как оценить получившуюся RAG-систему. Авторы соревнования делают это [так](http://participants-area.bioasq.org/Tasks/b/eval_meas_2022/): они разбивают валидацию на две части - оценка retrievel и оценка сгенерированного ответа. Давайте сделаем так же, но упростим нашу систему.\n",
        "\n",
        "Оба способа оценки вы реализуете самостоятельно. Для части с answer давайте отфильтруем вопросы формата yes/no и просто посчитаем F1 по двум классам. А для части с retrievel используем метрику Hit Rate@k - попал ли хоть один релевантный документ в первые *k*? Форма будет следующая для одного вопроса *i*:\n",
        "\n",
        "Hit Rate_i\\@k\n",
        "\n",
        "  $$\n",
        "    \\text{success}_i =\n",
        "      \\begin{cases}\n",
        "        1, & \\text{если } |\\,\\text{gold}_i \\cap \\text{retrieved}_i^{[:k]}| > 0 \\\\\n",
        "        0, & \\text{иначе}\n",
        "      \\end{cases}\n",
        "  $$\n",
        "\n",
        "Затем агрегируем по всем *N* вопросам:\n",
        "\n",
        "$$\n",
        "  \\text{Hit Rate@k} = \\frac{1}{N}\\sum_{i=1}^{N}\\text{success}_i.\n",
        "$$\n",
        "\n",
        "Другими словами, мы просто для каждого вопроса считаем, попал ли он в топ_k или нет, а потом усредняем по всем вопросам. Давайте в качестве k возьмем 3, то есть будем считать Hit Rate@3.\n",
        "\n",
        "*Пример*\n",
        "\n",
        "| Вопрос | Релевантных доков (gold) | Что вернула система (топ-3) | Hit Rate\\@3   \n",
        "| ------ | ------------------------ | --------------------------- | ------------\n",
        "| Q1     | {A, B}                   | A, C, D                     | 1 (A найден)\n",
        "| Q2     | {E}                      | F, G, H                     | 0            \n",
        "| Q3     | {J, K, L}                | K, L, A                     | 1 (A найден)      \n",
        "\n",
        "Средние значения: *Hit Rate\\@3* = (1 + 0 + 1)/3 = 0.67\n",
        "\n",
        "Осталось понять, где взять золотой ответ и что делать, если вы используете разбиение на чанки. 1) в датасете есть relevant_passage_ids - это и есть золотые (golden) ответы. 2) при разбиении на чанки сохраняйте информацию о том, к какого relevant_passage_ids он относится. Например, вот так: metadata={\"id\": rec[\"id\"], \"chunk\": i}.\n",
        "\n",
        "Если вы вдруг в процессе реализации задания столкнетесь со сложностями, не бойтесь подглядывать в решения других датасаентистов. Например, [kaggle](https://www.kaggle.com/) - это кладезь отличных готовых решений различных задач, и RAG в том числе. Можно, допустим, заглянуть в [ноутбук](https://www.kaggle.com/code/erwanversmee/rag-for-mini-bioasq/notebook) к Erwan Versmee (если найдете решение полезным, поставьте лайк - человеку будет приятно). Каждый код индивидуален, и чем больше вы увидите разных вариаций, тем сильнее станете как специалист. Удачи в решении задания!"
      ],
      "metadata": {
        "id": "2zDfkf2z1p8Q"
      }
    },
    {
      "cell_type": "markdown",
      "source": [
        "# Pips"
      ],
      "metadata": {
        "id": "Q0sK0X64lq5m"
      }
    },
    {
      "cell_type": "code",
      "source": [
        "# ваш код здесь\n",
        "\n",
        "!pip install -q --upgrade pip\n",
        "!pip uninstall -y fastai torch torchvision torchaudio gcsfs fsspec"
      ],
      "metadata": {
        "id": "w16WFY1B2BUX"
      },
      "execution_count": null,
      "outputs": []
    },
    {
      "cell_type": "code",
      "source": [
        "!pip install --upgrade transformers torch bitsandbytes"
      ],
      "metadata": {
        "id": "lBwKS_9pCH98"
      },
      "execution_count": null,
      "outputs": []
    },
    {
      "cell_type": "code",
      "source": [
        "!pip install -q torch==2.0.0 torchvision==0.15.1 torchaudio==2.0.1 \\\n",
        "    --index-url https://download.pytorch.org/whl/cu118"
      ],
      "metadata": {
        "id": "qUpFqcywlhQc"
      },
      "execution_count": null,
      "outputs": []
    },
    {
      "cell_type": "code",
      "source": [
        "!pip install -q fsspec==2025.3.2 gcsfs==2025.3.2"
      ],
      "metadata": {
        "id": "F50kcJgNliso"
      },
      "execution_count": null,
      "outputs": []
    },
    {
      "cell_type": "code",
      "source": [
        "!pip install -q \\\n",
        "    bitsandbytes==0.46.0 \\\n",
        "    transformers==4.52.4 \\\n",
        "    accelerate==1.8.1 \\\n",
        "    datasets==3.6.0 \\\n",
        "    sentence-transformers==4.1.0 \\\n",
        "    chromadb==1.0.13 \\\n",
        "    langchain==0.3.26 \\\n",
        "    langchain-community==0.3.26 \\\n",
        "    langchain-huggingface \\\n",
        "    tqdm==4.67.1"
      ],
      "metadata": {
        "id": "NaDWSdC4ljse"
      },
      "execution_count": null,
      "outputs": []
    },
    {
      "cell_type": "code",
      "source": [
        "!pip uninstall transformers bitsandbytes\n",
        "!pip install transformers==4.32.0 bitsandbytes\n",
        "!pip install langchain_community chromadb sentence-transformers"
      ],
      "metadata": {
        "id": "spAaDGWbprVG"
      },
      "execution_count": null,
      "outputs": []
    },
    {
      "cell_type": "markdown",
      "source": [
        "# BitsAndBytes"
      ],
      "metadata": {
        "id": "b7X6YcnBltTY"
      }
    },
    {
      "cell_type": "code",
      "source": [
        "from torch import cuda, bfloat16\n",
        "import torch, transformers\n",
        "import torchvision\n",
        "from torch.optim.lr_scheduler import LRScheduler"
      ],
      "metadata": {
        "id": "TIw8NUrjARwz"
      },
      "execution_count": null,
      "outputs": []
    },
    {
      "cell_type": "code",
      "source": [
        "# from torch import cuda, bfloat16\n",
        "# import torch, transformers\n",
        "# import torchvision\n",
        "# from torch.optim.lr_scheduler import LRScheduler\n",
        "from transformers import AutoTokenizer, BitsAndBytesConfig, pipeline\n",
        "\n",
        "\n",
        "torchvision.disable_beta_transforms_warning()\n",
        "DEVICE = f\"cuda:{cuda.current_device()}\" if cuda.is_available() else \"cpu\""
      ],
      "metadata": {
        "id": "be-mHclZlvVc"
      },
      "execution_count": null,
      "outputs": []
    },
    {
      "cell_type": "code",
      "source": [
        "import sys\n",
        "print(transformers.__version__, sys.executable)"
      ],
      "metadata": {
        "id": "p7WhK68blxZo"
      },
      "execution_count": null,
      "outputs": []
    },
    {
      "cell_type": "code",
      "source": [
        "import bitsandbytes as bnb, importlib, os\n",
        "print(bnb.__version__)\n",
        "!ldconfig -p | grep cusparse | head -n 3"
      ],
      "metadata": {
        "id": "yYGh4Y1SlykB"
      },
      "execution_count": null,
      "outputs": []
    },
    {
      "cell_type": "markdown",
      "source": [
        "# LLM"
      ],
      "metadata": {
        "id": "DkVBZH42l-qY"
      }
    },
    {
      "cell_type": "code",
      "source": [
        "model_name = 'openchat/openchat-3.5-0106'\n",
        "\n",
        "# Квантуем в 4 бита, чтобы поместилось в VRAM 6–8 ГБ\n",
        "bnb_config = BitsAndBytesConfig(\n",
        "    load_in_4bit=True,                          # включить 4-битное квантование\n",
        "    bnb_4bit_quant_type=\"nf4\",                  # тип квантования: \"nf4\" (Normalized Float 4) или \"fp4\"\n",
        "    bnb_4bit_use_double_quant=True,             # включить двойное квантование (дополнительная компрессия)\n",
        "    bnb_4bit_compute_dtype=torch.float16        # тип данных для вычислений (например, bfloat16 (недоступен на T4), float16)\n",
        ")\n",
        "\n",
        "\n",
        "print(\"Загружаем модель …\")\n",
        "model = transformers.AutoModelForCausalLM.from_pretrained(\n",
        "    model_name,\n",
        "    quantization_config=bnb_config,\n",
        "    device_map=\"auto\",\n",
        "    low_cpu_mem_usage=True,\n",
        "    offload_state_dict=True,\n",
        "    # trust_remote_code=True,\n",
        ")\n",
        "\n",
        "# tokenizer = transformers.LlamaTokenizer.from_pretrained(model_name)\n",
        "# tokenizer.pad_token_id = tokenizer.eos_token_id\n",
        "\n",
        "tokenizer = transformers.AutoTokenizer.from_pretrained(model_name)\n",
        "tokenizer.pad_token_id = tokenizer.eos_token_id\n"
      ],
      "metadata": {
        "id": "Y_5uR-aPl_-u"
      },
      "execution_count": null,
      "outputs": []
    },
    {
      "cell_type": "markdown",
      "source": [
        "# Данные"
      ],
      "metadata": {
        "id": "A4XoxnqToqLh"
      }
    },
    {
      "cell_type": "code",
      "source": [
        "from pathlib import Path\n",
        "\n",
        "from datasets import load_dataset\n",
        "from langchain.docstore.document import Document\n",
        "\n",
        "from langchain.document_loaders import TextLoader  # загружает текстовые файлы и превращает их в объекты Document для LangChain.\n",
        "from langchain.text_splitter import RecursiveCharacterTextSplitter  # рекурсивно разбивает длинный текст на более мелкие фрагменты (chunks).\n",
        "from langchain_huggingface import HuggingFaceEmbeddings  # оборачивает модели из HuggingFace для получения эмбеддингов текста.\n",
        "from langchain.vectorstores import Chroma  # векторное хранилище Chroma: сохраняет и ищет эмбеддинги.\n",
        "\n",
        "from langchain_huggingface import HuggingFacePipeline  # использует HuggingFace Transformers pipeline как LLM-модуль в LangChain.\n",
        "from langchain.chains import RetrievalQA  # готовая цепочка «поиск + генерация ответа» (Retrieval-augmented QA)."
      ],
      "metadata": {
        "id": "Ke5a1yeYoT4G"
      },
      "execution_count": null,
      "outputs": []
    },
    {
      "cell_type": "code",
      "source": [
        "bio_ds = load_dataset(\"rag-datasets/rag-mini-bioasq\", name=\"text-corpus\", split=\"passages\")\n",
        "\n",
        "# Создание документов\n",
        "corpus_docs = [\n",
        "    Document(page_content=rec[\"passage\"], metadata={\"id\": rec[\"id\"]})\n",
        "    for rec in bio_ds\n",
        "]\n",
        "\n",
        "print(f\"Загружено документов: {len(corpus_docs)}\")\n",
        "print(\"Пример документа:\\n\", corpus_docs[0].page_content[:200], \"...\")"
      ],
      "metadata": {
        "id": "p_jnFZpAosER"
      },
      "execution_count": null,
      "outputs": []
    },
    {
      "cell_type": "code",
      "source": [
        "bio_ds"
      ],
      "metadata": {
        "id": "8yGB5MXlrJRd"
      },
      "execution_count": null,
      "outputs": []
    },
    {
      "cell_type": "code",
      "source": [
        "splitter = RecursiveCharacterTextSplitter(\n",
        "    chunk_size=512, chunk_overlap=50\n",
        ")\n",
        "\n",
        "# docs = splitter.split_documents(corpus_docs)\n",
        "# print(\"Чанков:\", len(docs))\n",
        "\n",
        "docs = []\n",
        "for doc in corpus_docs:\n",
        "    chunks = splitter.split_documents([doc])\n",
        "    for i, chunk in enumerate(chunks):\n",
        "        chunk.metadata[\"chunk\"] = i\n",
        "        docs.append(chunk)\n",
        "\n",
        "print(\"Чанков:\", len(docs))"
      ],
      "metadata": {
        "id": "dQL01yWhrQPF"
      },
      "execution_count": null,
      "outputs": []
    },
    {
      "cell_type": "markdown",
      "source": [
        "# Создание векторной базы"
      ],
      "metadata": {
        "id": "RzPeIhm4rvic"
      }
    },
    {
      "cell_type": "code",
      "source": [
        "persist_directory = \"chroma_ragmini\"\n",
        "if os.path.exists(persist_directory):\n",
        "    vectordb = Chroma(persist_directory=persist_directory, embedding_function=embeddings)\n",
        "else:\n",
        "    embeddings = HuggingFaceEmbeddings(\n",
        "        model_name=\"sentence-transformers/all-mpnet-base-v2\",\n",
        "        model_kwargs={\"device\": \"cuda\"}\n",
        "    )\n",
        "    vectordb = Chroma.from_documents(\n",
        "        documents=docs,\n",
        "        embedding=embeddings,\n",
        "        persist_directory=persist_directory\n",
        "    )\n",
        "    vectordb.persist()"
      ],
      "metadata": {
        "id": "7K4EM6qLrw05"
      },
      "execution_count": null,
      "outputs": []
    },
    {
      "cell_type": "markdown",
      "source": [
        "# Сборка цепочки"
      ],
      "metadata": {
        "id": "xP7n2QomtgSp"
      }
    },
    {
      "cell_type": "code",
      "source": [
        "import numpy as np"
      ],
      "metadata": {
        "id": "if3XO3u02ss0"
      },
      "execution_count": null,
      "outputs": []
    },
    {
      "cell_type": "code",
      "source": [
        "import ast\n",
        "\n",
        "def evaluate_retrieval(retriever, val_ds, k=3):\n",
        "    # Загружаем только первые 10 примеров\n",
        "    val_ds = load_dataset(\"rag-datasets/rag-mini-bioasq\",\n",
        "                         name=\"question-answer-passages\",\n",
        "                         split=\"test\").select(range(10))\n",
        "\n",
        "    hit_rates = []\n",
        "    results = []  # Для хранения детальной информации\n",
        "\n",
        "    for example in val_ds:\n",
        "        question = example[\"question\"]\n",
        "\n",
        "        try:\n",
        "            # Преобразуем строку в список чисел\n",
        "            relevant_ids_str = example[\"relevant_passage_ids\"]\n",
        "            gold_ids = set(ast.literal_eval(relevant_ids_str))\n",
        "\n",
        "            # Получаем топ-k документов\n",
        "            docs = retriever.get_relevant_documents(question)[:k]\n",
        "            retrieved_ids = set(doc.metadata[\"id\"] for doc in docs)\n",
        "\n",
        "            # Проверяем пересечение с золотыми id\n",
        "            hit = 1 if gold_ids.intersection(retrieved_ids) else 0\n",
        "            hit_rates.append(hit)\n",
        "\n",
        "            # Сохраняем детальную информацию\n",
        "            results.append({\n",
        "                \"question\": question,\n",
        "                \"gold_ids\": gold_ids,\n",
        "                \"retrieved_ids\": retrieved_ids,\n",
        "                \"hit\": hit\n",
        "            })\n",
        "\n",
        "        except Exception as e:\n",
        "            print(f\"Ошибка при обработке вопроса '{question}': {e}\")\n",
        "            hit_rates.append(0)\n",
        "            results.append({\n",
        "                \"question\": question,\n",
        "                \"error\": str(e)\n",
        "            })\n",
        "\n",
        "    # Выводим детальную информацию\n",
        "    print(\"\\nПодробные результаты:\")\n",
        "    for res in results:\n",
        "        print(f\"\\nВопрос: {res['question']}\")\n",
        "        print(f\"Золотые ID: {res['gold_ids']}\")\n",
        "        print(f\"Найденные ID: {res['retrieved_ids']}\")\n",
        "        print(f\"Hit: {'Да' if res.get('hit', 0) else 'Нет'}\")\n",
        "\n",
        "    return np.mean(hit_rates) if hit_rates else 0.0"
      ],
      "metadata": {
        "id": "g3PrvgEM4f0s"
      },
      "execution_count": null,
      "outputs": []
    },
    {
      "cell_type": "code",
      "source": [
        "\n",
        "def evaluate_answers(qa_chain, val_ds):\n",
        "    val_ds = load_dataset(\"rag-datasets/rag-mini-bioasq\",\n",
        "                         name=\"question-answer-passages\",\n",
        "                         split=\"test\").select(range(10))\n",
        "\n",
        "    true_labels = []\n",
        "    predicted_labels = []\n",
        "    results = []\n",
        "\n",
        "    print(\"\\nРезультаты оценки:\")\n",
        "\n",
        "    for example in val_ds:\n",
        "        question = example[\"question\"]\n",
        "        gold_answer = example[\"answer\"].strip().lower()\n",
        "\n",
        "        # Определяем тип вопроса\n",
        "        is_yes_no = gold_answer in [\"yes\", \"no\"]\n",
        "\n",
        "        try:\n",
        "            response = qa_chain.invoke({\"query\": question})[\"result\"].strip().lower()\n",
        "\n",
        "            if is_yes_no:\n",
        "                true_label = 1 if gold_answer == \"yes\" else 0\n",
        "                predicted = 1 if response == \"yes\" else 0\n",
        "\n",
        "                true_labels.append(true_label)\n",
        "                predicted_labels.append(predicted)\n",
        "\n",
        "                results.append({\n",
        "                    \"question\": question,\n",
        "                    \"gold_answer\": gold_answer,\n",
        "                    \"model_response\": response,\n",
        "                    \"correct\": true_label == predicted\n",
        "                })\n",
        "\n",
        "                print(f\"\\nВопрос: {question}\")\n",
        "                print(f\"Золотой ответ: {gold_answer}\")\n",
        "                print(f\"Ответ модели: {response}\")\n",
        "                print(f\"Верно: {'Да' if true_label == predicted else 'Нет'}\")\n",
        "\n",
        "            else:\n",
        "                # print(f\"\\nВопрос: {question}\")\n",
        "                # print(f\"Золотой ответ: {gold_answer}\")\n",
        "                # print(f\"Ответ модели: {response}\")\n",
        "                print(\"Это не yes/no вопрос, оценка не производится\")\n",
        "\n",
        "        except Exception as e:\n",
        "            print(f\"Ошибка при обработке вопроса '{question}': {e}\")\n",
        "\n",
        "    if true_labels:\n",
        "        f1 = f1_score(true_labels, predicted_labels)\n",
        "        print(f\"\\nF1 score для yes/no вопросов: {f1:.4f}\")\n",
        "    else:\n",
        "        print(\"\\nНет yes/no вопросов в выборке\")\n",
        "\n",
        "    return f1"
      ],
      "metadata": {
        "id": "JomW5q6J4iFm"
      },
      "execution_count": null,
      "outputs": []
    },
    {
      "cell_type": "code",
      "source": [
        "from sklearn.metrics import f1_score"
      ],
      "metadata": {
        "id": "TTR5FYg2J7hN"
      },
      "execution_count": null,
      "outputs": []
    },
    {
      "cell_type": "code",
      "source": [
        "from transformers import GenerationConfig\n",
        "from langchain import PromptTemplate\n"
      ],
      "metadata": {
        "id": "epkbLdFFyRVi"
      },
      "execution_count": null,
      "outputs": []
    },
    {
      "cell_type": "code",
      "source": [
        "gen_cfg = GenerationConfig(\n",
        "    max_length=2048,\n",
        "    max_new_tokens=128,\n",
        "    # temperature=0.1,\n",
        "    # do_sample=False,\n",
        "    # top_p=0.9\n",
        ")"
      ],
      "metadata": {
        "id": "HFaJ4596u-Sz"
      },
      "execution_count": null,
      "outputs": []
    },
    {
      "cell_type": "code",
      "source": [
        "llm = HuggingFacePipeline(\n",
        "    pipeline=pipeline(\n",
        "        \"text-generation\",\n",
        "        model=model,\n",
        "        tokenizer=tokenizer,\n",
        "        torch_dtype=torch.float16,\n",
        "        device_map=\"auto\"\n",
        "    ),\n",
        "    model_kwargs={\n",
        "        \"max_new_tokens\": 128,\n",
        "        \"temperature\": 0.1,\n",
        "        \"do_sample\": False\n",
        "    }\n",
        ")"
      ],
      "metadata": {
        "id": "9X6in405vGM3"
      },
      "execution_count": null,
      "outputs": []
    },
    {
      "cell_type": "code",
      "source": [
        "print(val_ds.column_names)"
      ],
      "metadata": {
        "id": "pCkq1vPvyzJK"
      },
      "execution_count": null,
      "outputs": []
    },
    {
      "cell_type": "code",
      "source": [
        "# Обновленный промпт\n",
        "# template = \"\"\"\n",
        "# Answer the question based on the provided context. Follow these rules strictly:\n",
        "\n",
        "# 1. For yes/no questions:\n",
        "#    - Respond ONLY with \"Yes\" or \"No\"\n",
        "#    - No additional explanations\n",
        "\n",
        "# 2. For open-ended questions:\n",
        "#    - Provide a concise answer (1-2 sentences)\n",
        "#    - Use only information from the context\n",
        "#    - Keep the answer relevant and to the point\n",
        "\n",
        "# 3. DO NOT include:\n",
        "#    - Any instructions\n",
        "#    - Role descriptions\n",
        "#    - Extra text\n",
        "\n",
        "# Context:\n",
        "# {context}\n",
        "\n",
        "# Question: {question}\n",
        "\n",
        "# Answer:\n",
        "# \"\"\"\n",
        "# prompt = PromptTemplate(\n",
        "#     template=template,\n",
        "#     input_variables=[\"context\", \"question\"]\n",
        "# )\n"
      ],
      "metadata": {
        "id": "qhCM6sPrvGkr"
      },
      "execution_count": null,
      "outputs": []
    },
    {
      "cell_type": "code",
      "source": [
        "# Максимально упрощенный промпт\n",
        "template = \"\"\"\n",
        "Answer ONLY the question with a direct response.\n",
        "\n",
        "Question: {question}\n",
        "Answer:\n",
        "\"\"\"\n",
        "\n",
        "prompt = PromptTemplate(\n",
        "    template=template,\n",
        "    input_variables=[\"question\"]\n",
        ")"
      ],
      "metadata": {
        "id": "ZrTCDlF5JqxT"
      },
      "execution_count": null,
      "outputs": []
    },
    {
      "cell_type": "code",
      "source": [
        "val_ds = load_dataset(\"rag-datasets/rag-mini-bioasq\", name=\"question-answer-passages\", split=\"test\").select(range(10))\n",
        "\n",
        "# test_samples = val_ds.select(range(10))"
      ],
      "metadata": {
        "id": "gVqzYptyPAGA"
      },
      "execution_count": null,
      "outputs": []
    },
    {
      "cell_type": "code",
      "source": [
        "for i, example in enumerate(val_ds):\n",
        "        if i >= 10:  # Ограничение до 10 примеров\n",
        "            break\n",
        "\n",
        "        question = example[\"question\"]\n",
        "        answer = example[\"answer\"].lower()\n",
        "\n",
        "        print(f\"\\nВопрос {i+1}: {question}\")\n",
        "        print(f\"Ответ: {answer}\")\n",
        "\n",
        "        # Проверяем, является ли вопрос yes/no\n",
        "        if answer in [\"yes\", \"no\"]:\n",
        "            print(\"Тип вопроса: Yes/No\")\n",
        "        else:\n",
        "            print(\"Тип вопроса: Открытый\")"
      ],
      "metadata": {
        "id": "unPDo5yr9fLX"
      },
      "execution_count": null,
      "outputs": []
    },
    {
      "cell_type": "code",
      "source": [
        "from langchain.chains import LLMChain\n",
        "\n",
        "# Создаем цепочку\n",
        "chain = LLMChain(llm=llm, prompt=prompt)\n",
        "\n",
        "def evaluate_single_answer(chain, question, gold_answer):\n",
        "    try:\n",
        "        # Получаем полный ответ модели\n",
        "        full_response = chain.run(question)\n",
        "\n",
        "        print(f\"\\nПОЛНЫЙ ОТВЕТ МОДЕЛИ: {full_response}\")\n",
        "\n",
        "        # Очищаем ответ от лишних символов\n",
        "        cleaned_response = full_response.strip().lower().split()[0] if full_response else \"\"\n",
        "\n",
        "        # Определяем тип вопроса\n",
        "        is_yes_no = gold_answer.lower() in [\"yes\", \"no\"]\n",
        "\n",
        "        if is_yes_no:\n",
        "            true_label = 1 if gold_answer.lower() == \"yes\" else 0\n",
        "            predicted = 1 if cleaned_response == \"yes\" else 0\n",
        "\n",
        "            print(f\"\\nВопрос: {question}\")\n",
        "            print(f\"Золотой ответ: {gold_answer}\")\n",
        "            print(f\"Очищенный ответ модели: {cleaned_response}\")\n",
        "            print(f\"Верно: {'Да' if true_label == predicted else 'Нет'}\")\n",
        "\n",
        "            return true_label, predicted\n",
        "        else:\n",
        "            print(\"Это не yes/no вопрос\")\n",
        "            return None, None\n",
        "\n",
        "    except Exception as e:\n",
        "        print(f\"Ошибка при обработке вопроса: {e}\")\n",
        "        return None, None\n",
        "\n",
        "# Тестируем на конкретном примере\n",
        "question = \"Is the protein Papilin secreted?\"\n",
        "gold_answer = \"Yes\"\n",
        "\n",
        "true_label, predicted = evaluate_single_answer(chain, question, gold_answer)"
      ],
      "metadata": {
        "id": "XJJ7qqhoIwmW"
      },
      "execution_count": null,
      "outputs": []
    },
    {
      "cell_type": "code",
      "source": [
        "hit_rate = evaluate_retrieval(retriever, val_ds, k=3)\n",
        "print(f\"Hit Rate@3: {hit_rate:.4f}\")\n",
        "\n",
        "answer_f1 = evaluate_answers(qa_chain, val_ds)\n",
        "print(f\"F1 score для yes/no вопросов: {answer_f1:.4f}\")"
      ],
      "metadata": {
        "id": "h9TuGEmu5ENb"
      },
      "execution_count": null,
      "outputs": []
    },
    {
      "cell_type": "markdown",
      "source": [
        "# Результаты\n",
        "\n",
        "Мне удалось достигнуть метрики hit rate@k = 0.7\n",
        "\n",
        "ID документов действительно верно находятся во всех правильных ответах.\n",
        "\n",
        "Но, к сожалению, мне не удалось подстроить промпт и функцию для оценку yes/no ответов так, чтобы модель считывала их как подобные вопросы. Она всегда добавляла к ответам лишний контекст, хоть и сами ответы  yes/no в дальнейшем совпадали\n",
        "\n",
        "Поэтому оценить f1-score можно было только вручную, что я, к сожалению, тоже забыл сделать перед изменениями (а времени на gpu для перезапуска оставалось немного). Но по моей памяти все ответы, которые я видел(5-10 штук), совпадали."
      ],
      "metadata": {
        "id": "1iX5X59cWVli"
      }
    }
  ]
}